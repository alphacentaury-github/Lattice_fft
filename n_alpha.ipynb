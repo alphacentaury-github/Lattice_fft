{
 "cells": [
  {
   "cell_type": "markdown",
   "metadata": {},
   "source": [
    "# halo EFT $n-\\alpha$ scattering calculation from __C.A. Bertulani et al. NPA712(2002)37-58__\n",
    "\n",
    " $s_{1/2}$ non-resonant : LO treated as full summation\n",
    " \n",
    " $p_{3/2}$ -> resonance at E~1 MeV, shallow virtual bound state\n",
    "                This requires new power counting. \n",
    "                Thus treat scattering length and effective range non-perturbatively.  \n",
    " \n",
    " $p_{1/2}$ non-resonant : At first look. because this channel does not have resonance,\n",
    "                  it can be thought to be treated perturbatively. However, it was shown that \n",
    "                  we may need to treat this channel also non-perturbatively. \n",
    " "
   ]
  },
  {
   "cell_type": "markdown",
   "metadata": {},
   "source": [
    "## Import and define constants"
   ]
  },
  {
   "cell_type": "code",
   "execution_count": 78,
   "metadata": {},
   "outputs": [],
   "source": [
    "import numpy\n",
    "import numpy as np\n",
    "\n",
    "import matplotlib.pyplot as plt\n",
    "\n",
    "import scipy \n",
    "import scipy.special\n",
    "from scipy.special import factorial\n",
    "\n",
    "from sympy.physics.sho import E_nl\n",
    "from sympy import symbols\n",
    "from sympy.physics.sho import R_nl\n",
    "from sympy import var\n",
    "from sympy.physics.wigner import wigner_9j\n",
    "from sympy.physics.wigner import wigner_6j\n",
    "from sympy.physics.wigner import wigner_3j\n",
    "from sympy.physics.wigner import clebsch_gordan\n",
    "\n",
    "from functools import lru_cache\n",
    "\n",
    "hbarc = 197.326968 # MeV.fm \n",
    "amu = 931.4940954 # MeV\n",
    "mass_p  = 938.272    \n",
    "mass_n  = 939.5653\n",
    "mass_N = (mass_p+mass_n)/2.0\n",
    "alpha = 1.0/137.03599\n",
    "\n",
    "mass_alpha = 3727.4 # MeV \n",
    "\n",
    "reduced_mass = mass_n*mass_alpha/(mass_n+mass_alpha)\n",
    "fm = 1/hbarc # MeV^-1 "
   ]
  },
  {
   "cell_type": "markdown",
   "metadata": {},
   "source": [
    "## ERE of Table 1.\n",
    "\n",
    "ERE of n-alpha is already known as Table 1.  \n",
    "\n",
    "The power counting scale estimation in the text below table 1.\n",
    "(Be careful for the units)\n",
    "\n",
    "We count \n",
    "\n",
    "natural S-wave case\n",
    "$-\\frac{1}{a}+\\frac{1}{2}r k^2-\\frac{P}{4}k^4 \\sim M_{hi} + \\frac{1}{M_{hi}} k^2 +\\frac{1}{M^3_{hi}} k^4$\n",
    "\n",
    "unnatural S-wave case \n",
    "$-\\frac{1}{a}+\\frac{1}{2}r k^2-\\frac{P}{4}k^4 \\sim M_{lo} + \\frac{1}{M_{hi}} k^2 +\\frac{1}{M^3_{hi}} k^4$\n",
    "\n",
    "natural P-wave case\n",
    "$-\\frac{1}{a}+\\frac{1}{2}r k^2-\\frac{P}{4}k^4 \\sim M_{hi}^3 + M_{hi} k^2 +\\frac{1}{M_{hi}} k^4$\n",
    "\n",
    "unnatural P-wave case \n",
    "$-\\frac{1}{a}+\\frac{1}{2}r k^2-\\frac{P}{4}k^4 \\sim M_{lo}^3 + M_{lo} k^2 +\\frac{1}{M_{hi}} k^4$\n",
    "\n"
   ]
  },
  {
   "cell_type": "code",
   "execution_count": 138,
   "metadata": {},
   "outputs": [
    {
     "name": "stdout",
     "output_type": "stream",
     "text": [
      "**M_{lo} and M_{hi} estimation (MeV) from ERE \n",
      "0+ channel =  80.08074672294143 284.94869025270754\n",
      "1+ channel =  49.60425122682985 87.0113265396 262.92733910726184\n",
      "1- channel =  82.22551845682871 41.339999795999994\n"
     ]
    }
   ],
   "source": [
    "#----------ERE data\n",
    "ERE_data={'0+': [2.4641*fm, 1.385*fm,0.0], '1-':[-13.821*fm**3,-0.419*fm**(-1),0.0],'1+':[-62.951*fm**3,-0.8819*fm**(-1),-3.002*fm]}\n",
    "\n",
    "# scale estimation\n",
    "print('**M_{lo} and M_{hi} estimation (MeV) from ERE ')\n",
    "print('0+ channel = ',1/(ERE_data['0+'][0]), 1/(ERE_data['0+'][1]/2) )\n",
    "print('1+ channel = ', 1/(-ERE_data['1+'][0])**(1./3), (-ERE_data['1+'][1]/2), 1/(-ERE_data['1+'][2]/4)  )\n",
    "print('1- channel = ',1/(-ERE_data['1-'][0])**(1/3), (-ERE_data['1-'][1]/2) )"
   ]
  },
  {
   "cell_type": "markdown",
   "metadata": {},
   "source": [
    "## Phase shift of 1+ channel Fig. 4\n",
    "Phase shift extracted as eq.(24)\n",
    "\n",
    "$ \\delta_{l} = \\frac{1}{2 i}\\log (1+2ik*f_l) $\n",
    "\n",
    "where $f_{l}$ partial wave scattering amplitudes  eq.(30)\n",
    "\n",
    "LO amplitudes from eq.(46) , NLO amplitudes from eq.(49)"
   ]
  },
  {
   "cell_type": "code",
   "execution_count": 80,
   "metadata": {},
   "outputs": [
    {
     "data": {
      "text/plain": [
       "<matplotlib.legend.Legend at 0x23333dc6908>"
      ]
     },
     "execution_count": 80,
     "metadata": {},
     "output_type": "execute_result"
    },
    {
     "data": {
      "image/png": "[encoded data removed]",
      "text/plain": [
       "<Figure size 432x288 with 1 Axes>"
      ]
     },
     "metadata": {
      "needs_background": "light"
     },
     "output_type": "display_data"
    }
   ],
   "source": [
    "# 1+ phase shift \n",
    "a = ERE_data['1+'][0]  # to MeV units\n",
    "r = ERE_data['1+'][1]     # to MeV units\n",
    "P = ERE_data['1+'][2]     # to MeV units   \n",
    "\n",
    "# in lab frame energy \n",
    "E_lab = np.linspace(0.01,4,40) \n",
    "E_cm =  reduced_mass/mass_n*E_lab\n",
    "k_list = np.sqrt(2*reduced_mass*E_cm)\n",
    "\n",
    "# scattering Amplitudes ( f_{1+} )\n",
    "f_LO = k_list**2/(-1./a+r/2*k_list**2-1j*k_list**3)\n",
    "f_NLO= P/4.0*k_list**6/(-1./a+r/2*k_list**2-1j*k_list**3)**2\n",
    "\n",
    "# LO phase shift\n",
    "temp=1+2*1j*k_list*f_LO\n",
    "delta = np.log(temp)/(2*1j)*180/np.pi \n",
    "for i in range(len(delta)):\n",
    "    if delta[i]<0:\n",
    "        delta[i]=delta[i]+180\n",
    "delta_LO = delta\n",
    "\n",
    "#NLO phase shift\n",
    "temp=1+2*1j*k_list*(f_LO+f_NLO)\n",
    "delta = np.log(temp)/(2*1j)*180/np.pi \n",
    "for i in range(len(delta)):\n",
    "    if delta[i]<0:\n",
    "        delta[i]=delta[i]+180\n",
    "delta_NLO = delta\n",
    "        \n",
    "# plot as a function of neutron kinetic energy vs pahse shift \n",
    "plt.plot(E_lab,np.real(delta_LO),label='1+ LO' )\n",
    "plt.plot(E_lab,np.real(delta_NLO),label='1+ NLO')\n",
    "plt.xlabel(r'$E_N$')\n",
    "plt.ylabel(r'$\\delta_{1+}$')\n",
    "plt.legend()"
   ]
  },
  {
   "cell_type": "markdown",
   "metadata": {},
   "source": [
    "## poles of 1+ channel at LO\n",
    "eq.(23)"
   ]
  },
  {
   "cell_type": "code",
   "execution_count": 81,
   "metadata": {},
   "outputs": [
    {
     "name": "stdout",
     "output_type": "stream",
     "text": [
      "gamma_1=99.371692 gamma=-6.180183 gamma_t=34.497475\n",
      "E0=0.818400  Gamma(E0)=0.577271\n"
     ]
    }
   ],
   "source": [
    "# 1+ \n",
    "a = ERE_data['1+'][0]  # to MeV units\n",
    "r = ERE_data['1+'][1]     # to MeV units\n",
    "P = ERE_data['1+'][2]     # to MeV units   \n",
    "\n",
    "# pole positions \n",
    "a1=abs(a); r1=abs(r) ;\n",
    "\n",
    "v = (108+a1*r1**3+108*np.sqrt(1+a1*(r1**3)/54))**(1./3)\n",
    "\n",
    "gamma_1= (r1+a1**(1/3.)*r1**2/v+v/a1**(1./3) )/6.\n",
    "gamma = (r1-a1**(1/3.)*r1**2/(2*v)-v/(2*a1**(1./3)) )/6.\n",
    "gamma_t = -np.sqrt(3)/12*(a1**(1./3)*r1**2/v-v/a1**(1./3))\n",
    "print('gamma_1=%f gamma=%f gamma_t=%f'%(gamma_1,gamma,gamma_t))\n",
    "\n",
    "E0 = (gamma**2+gamma_t**2)/(2*reduced_mass)\n",
    "Gamma = -4*gamma*np.sqrt(E0/(2*reduced_mass) )\n",
    "print('E0=%f  Gamma(E0)=%f'%(E0,Gamma))"
   ]
  },
  {
   "cell_type": "markdown",
   "metadata": {},
   "source": [
    "## Phase shift 0+ channel Fig.5\n",
    "\n",
    "Question? \n",
    "\n",
    "eq.(47) seems to suggest f_{NLO}=-a  for 0+ channel.\n",
    "\n",
    "However, the phase shift plot corresponds to f_{NLO}=1/(-1/a - i k) \n"
   ]
  },
  {
   "cell_type": "code",
   "execution_count": 82,
   "metadata": {},
   "outputs": [
    {
     "data": {
      "text/plain": [
       "<matplotlib.legend.Legend at 0x23333e3ab48>"
      ]
     },
     "execution_count": 82,
     "metadata": {},
     "output_type": "execute_result"
    },
    {
     "data": {
      "image/png": "[encoded data removed]",
      "text/plain": [
       "<Figure size 432x288 with 1 Axes>"
      ]
     },
     "metadata": {
      "needs_background": "light"
     },
     "output_type": "display_data"
    }
   ],
   "source": [
    "# 1+ phase shift \n",
    "a = ERE_data['0+'][0]  \n",
    "r = ERE_data['0+'][1]  \n",
    "P = ERE_data['0+'][2]  \n",
    "# in lab frame energy \n",
    "E_lab = np.linspace(0.01,4,40) \n",
    "E_cm =  reduced_mass/mass_n*E_lab\n",
    "k_list = np.sqrt(2*reduced_mass*E_cm)\n",
    "\n",
    "# scattering Amplitudes ( f_{0+} )\n",
    "#f_LO = 0.0\n",
    "#f_NLO= -a\n",
    "\n",
    "f_LO =0.0\n",
    "f_NLO= 1/(-1/a-1j*k_list)\n",
    "\n",
    "#f_LO =0.0\n",
    "#f_NLO= -a*(1-1j*a*k_list)\n",
    "\n",
    "#NLO phase shift\n",
    "temp=1+2*1j*k_list*(f_LO+f_NLO)\n",
    "delta = np.log(temp)/(2*1j)*180/np.pi \n",
    "delta_NLO = delta\n",
    "        \n",
    "# plot as a function of neutron kinetic energy vs pahse shift \n",
    "plt.plot(E_lab,np.real(delta_NLO),label='0+ NLO')\n",
    "plt.xlabel(r'$E_N$')\n",
    "plt.ylabel(r'$\\delta_{0+}$')\n",
    "plt.ylim([-50,0])\n",
    "plt.legend()"
   ]
  },
  {
   "cell_type": "markdown",
   "metadata": {},
   "source": [
    "## Phase shift 1- channel Fig. 8\n"
   ]
  },
  {
   "cell_type": "code",
   "execution_count": 83,
   "metadata": {},
   "outputs": [
    {
     "data": {
      "text/plain": [
       "<matplotlib.legend.Legend at 0x23333e9a048>"
      ]
     },
     "execution_count": 83,
     "metadata": {},
     "output_type": "execute_result"
    },
    {
     "data": {
      "image/png": "[encoded data removed]",
      "text/plain": [
       "<Figure size 432x288 with 1 Axes>"
      ]
     },
     "metadata": {
      "needs_background": "light"
     },
     "output_type": "display_data"
    }
   ],
   "source": [
    "# 1+ phase shift \n",
    "a = ERE_data['1-'][0]  # to MeV units\n",
    "r = ERE_data['1-'][1]     # to MeV units\n",
    "P = ERE_data['1-'][2]     # to MeV units   \n",
    "\n",
    "# in lab frame energy \n",
    "E_lab = np.linspace(0.01,4,40) \n",
    "E_cm =  reduced_mass/mass_n*E_lab\n",
    "k_list = np.sqrt(2*reduced_mass*E_cm)\n",
    "\n",
    "# scattering Amplitudes ( f_{1-} ) in modified power counting \n",
    "f_LO = k_list**2/(-1./a+r/2*k_list**2-1j*k_list**3)\n",
    "\n",
    "# LO phase shift\n",
    "temp=1+2*1j*k_list*f_LO\n",
    "delta = np.log(temp)/(2*1j)*180/np.pi \n",
    "delta_LO = delta\n",
    "\n",
    "# scattering Amplitudes ( f_{1-} ) in modified power counting \n",
    "f_test = k_list**2/(-1./a-1j*k_list**3)\n",
    "\n",
    "# LO phase shift\n",
    "temp=1+2*1j*k_list*f_test\n",
    "delta = np.log(temp)/(2*1j)*180/np.pi \n",
    "delta_test = delta\n",
    "\n",
    "# plot as a function of neutron kinetic energy vs pahse shift \n",
    "plt.plot(E_lab,np.real(delta_LO),label='1- LO' )\n",
    "plt.plot(E_lab,np.real(delta_test),label='1- test' )\n",
    "plt.xlabel(r'$E_N$')\n",
    "plt.ylabel(r'$\\delta_{1-}$')\n",
    "plt.legend()"
   ]
  },
  {
   "cell_type": "markdown",
   "metadata": {},
   "source": [
    "## Differential cross section Fig.7\n",
    "\n",
    "Using general formula in the note for the differential cross section\n",
    "\n",
    "$(\\frac{d\\sigma}{d\\Omega})_{mm'}$\n",
    "\n",
    "__Be careful for the notation of scipy for clebsch-gordan and spherical harmonics !!__\n",
    "\n",
    "unpolarized cross section is \n",
    "$\\frac{1}{2}\\sum_{mm'}(\\frac{d\\sigma}{d\\Omega})_{mm'}$\n"
   ]
  },
  {
   "cell_type": "code",
   "execution_count": 84,
   "metadata": {},
   "outputs": [],
   "source": [
    "def scattering_amp(m,mp,theta,kcm):\n",
    "    \"\"\"\n",
    "    n+alpha scattering amplitude\n",
    "    \n",
    "    Be careful that output is fm units  \n",
    "    \"\"\"\n",
    "    # scattering Amplitudes f[L,J]\n",
    "    f={}\n",
    "    # 1+ channel amplitude \n",
    "    (a,r,P) = ERE_data['1+']\n",
    "    f[1,1.5] = kcm**2/(-1./a+r/2*kcm**2-1j*kcm**3)+P/4.0*kcm**6/(-1./a+r/2*kcm**2-1j*kcm**3)**2\n",
    "    # 1- channel \n",
    "    (a,r,P) = ERE_data['1-']\n",
    "    f[1,0.5] = kcm**2/(-1./a+r/2*kcm**2-1j*kcm**3)\n",
    "    # 0+ channel\n",
    "    (a,r,P) = ERE_data['0+']\n",
    "    f[0,0.5] = 1/(-1./a-1j*kcm)\n",
    "    # sum over L,M,J\n",
    "    sums =0.0\n",
    "    for J in np.arange(0.5,1.5+1):\n",
    "        for L in np.arange(0,1+1):\n",
    "            factor = np.sqrt(4*np.pi*(2*L+1))*float(clebsch_gordan(L,0.5,J, 0,m,m))*float(clebsch_gordan(L,0.5,J, m-mp,mp,m))\n",
    "            if abs(factor)>1.e-24:\n",
    "                sums = sums + factor*scipy.special.sph_harm(m-mp,L, 0,theta)*f[L,J]\n",
    "                #print(factor,scipy.special.sph_harm(m-mp,L,theta, 0),f[L,J]  )\n",
    "    return sums*hbarc  #unit conversion             \n",
    "                \n",
    "def unpol_diff_cs(theta,kcm):\n",
    "    \"\"\"unpolarized differential cross section\n",
    "       in unit of fm^2 \n",
    "    \"\"\"\n",
    "    sums=0.0\n",
    "    for m in [-0.5,0.5]:\n",
    "        for mp in [-0.5,0.5]:\n",
    "            sums = sums + np.abs(scattering_amp(m,mp,theta,kcm))**2\n",
    "    return sums/2.0        \n",
    "    "
   ]
  },
  {
   "cell_type": "code",
   "execution_count": 85,
   "metadata": {},
   "outputs": [
    {
     "data": {
      "image/png": "[encoded data removed]",
      "text/plain": [
       "<Figure size 432x288 with 1 Axes>"
      ]
     },
     "metadata": {
      "needs_background": "light"
     },
     "output_type": "display_data"
    }
   ],
   "source": [
    "kcm=49.6 ;\n",
    "thetaCM=np.linspace(0.0,np.pi,50)\n",
    "ds=np.zeros(len(thetaCM))\n",
    "for i in range(len(thetaCM)):\n",
    "    ds[i]=unpol_diff_cs(thetaCM[i],kcm)\n",
    "    \n",
    "plt.plot(thetaCM*180/np.pi,ds/100.)   #into barn unit\n",
    "plt.xlabel(r'$\\theta_{CM}$')\n",
    "plt.ylabel(r'$d\\sigma$ [barn]')\n",
    "plt.ylim([0,1]);\n",
    "plt.xlim([0,180]);"
   ]
  },
  {
   "cell_type": "markdown",
   "metadata": {},
   "source": [
    "## Total cross section:\n",
    "\n",
    "One can obtain the total cross section by \n",
    "\n",
    "$\\sigma_{T}=\\frac{1}{2}\\sum_{mm'}\\int d\\Omega \\frac{d\\sigma}{d\\Omega}_{mm'}.$\n",
    "\n",
    "But, it is more convenient to use optical theorem, eq. (31).\n",
    "(Aactually,  eq.(26) is convenient for unpolarized differntial cross section). \n"
   ]
  },
  {
   "cell_type": "code",
   "execution_count": 86,
   "metadata": {},
   "outputs": [
    {
     "data": {
      "image/png": "[encoded data removed]",
      "text/plain": [
       "<Figure size 432x288 with 1 Axes>"
      ]
     },
     "metadata": {
      "needs_background": "light"
     },
     "output_type": "display_data"
    }
   ],
   "source": [
    "E_lab = np.linspace(0.01,5,60) \n",
    "E_cm =  reduced_mass/mass_n*E_lab\n",
    "kcm = np.sqrt(2*reduced_mass*E_cm)\n",
    "sig_tot= 4*np.pi/(kcm/hbarc)  *np.imag( scattering_amp(0.5,0.5,0.0,kcm) ) # m,mp is chosen arbitrary\n",
    "plt.plot(E_lab,sig_tot/100)\n",
    "plt.ylim([0,8.5])\n",
    "plt.xlabel(r'$E_{lab}$(MeV)');\n",
    "plt.ylabel(r'$\\sigma_T$ (barn)');"
   ]
  },
  {
   "cell_type": "markdown",
   "metadata": {},
   "source": [
    "## Coulomb scattering \n",
    "\n",
    "Oen needs\n",
    "\n",
    "  1.  sigma_l(eta) : Coulomb phase shift\n",
    "\n",
    "  2. C_l(eta) : Coulomb related factor\n",
    "\n",
    "  3. h_l(eta) : Coulomb related function\n",
    "\n",
    "  4. f_c(theta,eta) : Coulomb scattering amplitude \n",
    "\n"
   ]
  },
  {
   "cell_type": "code",
   "execution_count": 87,
   "metadata": {},
   "outputs": [],
   "source": [
    "def Coulomb_eta(charge_product,reduced_mass,pcm):\n",
    "    \"\"\"\n",
    "        eta = Z1*Z2*alpha_em*(reduced_mass)/p \n",
    "    \"\"\"\n",
    "    return charge_product*alpha*(reduced_mass)/pcm \n",
    "\n",
    "def Coulomb_phaseshift(L,eta):\n",
    "    return np.angle(scipy.special.gamma(L+1+1j*eta))\n",
    "\n",
    "def Coulomb_factor(L,eta):\n",
    "    \"\"\"\n",
    "    Gamow-Sommerfeld factor C_l(eta)**2\n",
    "    \"\"\"\n",
    "    return np.exp(-np.pi*eta)*scipy.special.gamma(L+1+1j*eta)*scipy.special.gamma(L+1-1j*eta)\n",
    "\n",
    "def Coulomb_h_l(L,eta,pcm):\n",
    "    \"\"\"\n",
    "    h_l(eta)\n",
    "    \n",
    "    Note : not well defined numerically at eta =0.\n",
    "    \"\"\"\n",
    "    temp=pcm**(2*L)*Coulomb_factor(L,eta)/Coulomb_factor(0,eta)\n",
    "    out =temp*(scipy.special.digamma(1j*eta)+1./(2*1j*eta)-np.log(1j*eta))\n",
    "    return out \n",
    "\n",
    "def Coulomb_scattering_amplitude(theta,eta,kcm):\n",
    "    \"\"\"\n",
    "    Coulomb scattering amplitude for spin-less particle\n",
    "    \"\"\"\n",
    "    temp1 = -eta/(2*kcm*np.sin(theta/2.0)**2)\n",
    "    temp2 = np.exp(-1j*eta*np.log(np.sin(theta/2.0)**2)+2*1j* Coulomb_phaseshift(0,eta)   )\n",
    "    return temp1*temp2"
   ]
  },
  {
   "cell_type": "markdown",
   "metadata": {},
   "source": [
    "# alpha-12C scattering of Ando, Eur.Phys. J. A(2016) 52\n",
    "\n",
    "Both particle are spinless. Thus simple. \n",
    "\n",
    "ERE para are set from Table 1, 2,3 choose first column only \n",
    "\n",
    "__However, there seems to be large cancellation maong terms and results are very sensitive to the approximations.__\n",
    "\n",
    "Thus, though inaccurate, let us use approximation similar to the paper as possible."
   ]
  },
  {
   "cell_type": "markdown",
   "metadata": {},
   "source": [
    "## Basic parameters"
   ]
  },
  {
   "cell_type": "code",
   "execution_count": 140,
   "metadata": {},
   "outputs": [
    {
     "name": "stdout",
     "output_type": "stream",
     "text": [
      " k_C =  244.77800277720613\n"
     ]
    }
   ],
   "source": [
    "# approximation .. \n",
    "mass_12C= 12*amu # amu or mass_N \n",
    "\n",
    "reduced_mass = mass_alpha*mass_12C/(mass_alpha+mass_12C);\n",
    "\n",
    "ERE_data={'s': [0.034, 0.2693*fm,-0.0372*fm**3], \n",
    "          'p':[-3.84*10**(3), 0.405*fm**(-1),-0.645*fm],\n",
    "          'd':[0.0 , 0.536*fm**(-3),-5.505*fm**(-1)]}\n",
    "\n",
    "k_C = 2*6*alpha*reduced_mass\n",
    "print(' k_C = ', k_C)\n",
    "\n",
    "Talpha = np.linspace(0.1,7,100);\n",
    "Ecm = reduced_mass/mass_alpha*Talpha;\n",
    "kcm = np.sqrt(2*reduced_mass*Ecm); # kcm = sqrt(1.5*mu*T_alpha)\n",
    "\n",
    "etas = Coulomb_eta(2*6,reduced_mass,kcm)\n",
    "\n",
    "sigmas={'s': Coulomb_phaseshift(0,etas), \n",
    "        'p': Coulomb_phaseshift(1,etas), \n",
    "        'd': Coulomb_phaseshift(2,etas) }\n",
    "hL_eta={'s': Coulomb_h_l(0,etas,kcm), \n",
    "        'p': Coulomb_h_l(1,etas,kcm),\n",
    "        'd': Coulomb_h_l(2,etas,kcm) }\n",
    "Cfactors={'s': Coulomb_factor(0,etas), \n",
    "          'p': kcm**2*Coulomb_factor(1,etas), \n",
    "          'd': kcm**4*Coulomb_factor(2,etas) } # k^{2l}*C_l(eta)^2"
   ]
  },
  {
   "cell_type": "markdown",
   "metadata": {},
   "source": [
    "### Scale estimation \n",
    "\n",
    "___Can we consider ERE fits to be consistent with power counting?___\n",
    "\n",
    "natural S-wave case\n",
    "$-\\frac{1}{a}+\\frac{1}{2}r k^2-\\frac{P}{4}k^4 \\sim M_{hi} + \\frac{1}{M_{hi}} k^2 +\\frac{1}{M^3_{hi}} k^4$\n",
    "\n",
    "unnatural S-wave case \n",
    "$-\\frac{1}{a}+\\frac{1}{2}r k^2-\\frac{P}{4}k^4 \\sim M_{lo} + \\frac{1}{M_{hi}} k^2 +\\frac{1}{M^3_{hi}} k^4$\n",
    "\n",
    "natural P-wave case\n",
    "$-\\frac{1}{a}+\\frac{1}{2}r k^2-\\frac{P}{4}k^4 \\sim M_{hi}^3 + M_{hi} k^2 +\\frac{1}{M_{hi}} k^4$\n",
    "\n",
    "unnatural P-wave case \n",
    "$-\\frac{1}{a}+\\frac{1}{2}r k^2-\\frac{P}{4}k^4 \\sim M_{lo}^3 + M_{lo} k^2 +\\frac{1}{M_{hi}} k^4$\n",
    "\n",
    "natural D-wave\n",
    "$-\\frac{1}{a}+\\frac{1}{2}r k^2-\\frac{P}{4}k^4 \\sim M_{hi}^5 + M_{hi}^3 k^2 +M_{hi} k^4$\n",
    "\n",
    "unnatural D-wave\n",
    "$-\\frac{1}{a}+\\frac{1}{2}r k^2-\\frac{P}{4}k^4 \\sim M_{lo}^5 + M_{lo}^3 k^2 +M_{lo} k^4$"
   ]
  },
  {
   "cell_type": "code",
   "execution_count": 145,
   "metadata": {},
   "outputs": [
    {
     "name": "stdout",
     "output_type": "stream",
     "text": [
      "s-wave : 0.034 1465.4806386929076 938.3368958547508\n",
      "p-wave : 15.659470564675452 39.95871102 1223.7331348837208\n",
      "d-wave : 0.0 127.22272909306147 271.57123971\n"
     ]
    }
   ],
   "source": [
    "# Mass scale estimations \n",
    "print('s-wave :', np.abs(ERE_data['s'][0]) , 1/(abs(ERE_data['s'][1])/2) , 1/(abs(ERE_data['s'][2])/4)**(1./3.)   )\n",
    "print('p-wave :', np.abs(ERE_data['p'][0])**(1./3.) , (abs(ERE_data['p'][1])/2) , 1/(abs(ERE_data['p'][2])/4)   )\n",
    "print('d-wave :', np.abs(ERE_data['d'][0])**(1./5.) , (abs(ERE_data['d'][1])/2)**(1./3.) , (abs(ERE_data['d'][2])/4)   )"
   ]
  },
  {
   "cell_type": "markdown",
   "metadata": {},
   "source": [
    "## Scattering amplitude\n",
    "\n",
    "$f_L =\\frac{1}{k\\cot\\delta_L- i k} $"
   ]
  },
  {
   "cell_type": "code",
   "execution_count": 128,
   "metadata": {},
   "outputs": [],
   "source": [
    "# scattering amplitude \n",
    "scattering_amp={}\n",
    "for i in ['s','p','d']:\n",
    "    scattering_amp[i]=Cfactors[i]/(-ERE_data[i][0]+0.5*ERE_data[i][1]*kcm**2-ERE_data[i][2]/4*kcm**4-2*k_C*hL_eta[i])"
   ]
  },
  {
   "cell_type": "markdown",
   "metadata": {},
   "source": [
    "## Phase shift "
   ]
  },
  {
   "cell_type": "code",
   "execution_count": 129,
   "metadata": {},
   "outputs": [],
   "source": [
    "deltas={}\n",
    "for i in ['s','p','d']:\n",
    "    temp=1+2*1j*kcm*scattering_amp[i]\n",
    "    deltas[i] = np.log(temp)/(2*1j)*180/np.pi "
   ]
  },
  {
   "cell_type": "markdown",
   "metadata": {},
   "source": [
    "### Fig. 3 and 4"
   ]
  },
  {
   "cell_type": "code",
   "execution_count": 130,
   "metadata": {},
   "outputs": [
    {
     "data": {
      "text/plain": [
       "[<matplotlib.lines.Line2D at 0x2333570aa48>]"
      ]
     },
     "execution_count": 130,
     "metadata": {},
     "output_type": "execute_result"
    },
    {
     "data": {
      "image/png": "[encoded data removed]",
      "text/plain": [
       "<Figure size 432x288 with 1 Axes>"
      ]
     },
     "metadata": {
      "needs_background": "light"
     },
     "output_type": "display_data"
    },
    {
     "data": {
      "image/png": "[encoded data removed]",
      "text/plain": [
       "<Figure size 432x288 with 1 Axes>"
      ]
     },
     "metadata": {
      "needs_background": "light"
     },
     "output_type": "display_data"
    }
   ],
   "source": [
    "plt.figure()    \n",
    "plt.plot(Talpha,np.real(deltas['s']) )  \n",
    "\n",
    "fs=-2*k_C*hL_eta['s']-ERE_data['s'][0]+0.5*ERE_data['s'][1]*kcm**2-0.25*ERE_data['s'][2]*kcm**4\n",
    "plt.figure()\n",
    "plt.plot(Talpha,np.real(fs))"
   ]
  },
  {
   "cell_type": "markdown",
   "metadata": {},
   "source": [
    "### Fig. 5 and 6"
   ]
  },
  {
   "cell_type": "code",
   "execution_count": 131,
   "metadata": {},
   "outputs": [
    {
     "data": {
      "text/plain": [
       "(0, 4500)"
      ]
     },
     "execution_count": 131,
     "metadata": {},
     "output_type": "execute_result"
    },
    {
     "data": {
      "image/png": "[encoded data removed]",
      "text/plain": [
       "<Figure size 432x288 with 1 Axes>"
      ]
     },
     "metadata": {
      "needs_background": "light"
     },
     "output_type": "display_data"
    },
    {
     "data": {
      "image/png": "[encoded data removed]",
      "text/plain": [
       "<Figure size 432x288 with 1 Axes>"
      ]
     },
     "metadata": {
      "needs_background": "light"
     },
     "output_type": "display_data"
    }
   ],
   "source": [
    "plt.figure()    \n",
    "plt.plot(Talpha,np.real(deltas['p']) )  \n",
    "plt.xlim([1.4,3.5])\n",
    "plt.ylim([-10,60])\n",
    "\n",
    "fp=-2*k_C*hL_eta['p']-ERE_data['p'][0]+0.5*ERE_data['p'][1]*kcm**2-0.25*ERE_data['p'][2]*kcm**4\n",
    "plt.figure()\n",
    "plt.plot(Talpha,np.real(fp))\n",
    "plt.xlim([0,3])\n",
    "plt.ylim([0,4500])"
   ]
  },
  {
   "cell_type": "markdown",
   "metadata": {},
   "source": [
    "### Fig. 7 and 8"
   ]
  },
  {
   "cell_type": "code",
   "execution_count": 132,
   "metadata": {},
   "outputs": [
    {
     "data": {
      "text/plain": [
       "(-0.01, 0)"
      ]
     },
     "execution_count": 132,
     "metadata": {},
     "output_type": "execute_result"
    },
    {
     "data": {
      "image/png": "[encoded data removed]",
      "text/plain": [
       "<Figure size 432x288 with 1 Axes>"
      ]
     },
     "metadata": {
      "needs_background": "light"
     },
     "output_type": "display_data"
    },
    {
     "data": {
      "image/png": "[encoded data removed]",
      "text/plain": [
       "<Figure size 432x288 with 1 Axes>"
      ]
     },
     "metadata": {
      "needs_background": "light"
     },
     "output_type": "display_data"
    }
   ],
   "source": [
    "plt.figure()    \n",
    "plt.plot(Talpha,np.real(deltas['d']) )  \n",
    "plt.xlim([1.4,4])\n",
    "plt.ylim([-3,4])\n",
    "\n",
    "fd=-2*k_C*hL_eta['d']-ERE_data['d'][0]+0.5*ERE_data['d'][1]*kcm**2-0.25*ERE_data['d'][2]*kcm**4\n",
    "plt.figure()\n",
    "plt.plot(Talpha,np.real(fd)/fm**(-5))\n",
    "plt.xlim([0,3])\n",
    "plt.ylim([-0.01,0])"
   ]
  },
  {
   "cell_type": "code",
   "execution_count": null,
   "metadata": {},
   "outputs": [],
   "source": []
  }
 ],
 "metadata": {
  "kernelspec": {
   "display_name": "Python 3",
   "language": "python",
   "name": "python3"
  },
  "language_info": {
   "codemirror_mode": {
    "name": "ipython",
    "version": 3
   },
   "file_extension": ".py",
   "mimetype": "text/x-python",
   "name": "python",
   "nbconvert_exporter": "python",
   "pygments_lexer": "ipython3",
   "version": "3.7.4"
  }
 },
 "nbformat": 4,
 "nbformat_minor": 4
}
