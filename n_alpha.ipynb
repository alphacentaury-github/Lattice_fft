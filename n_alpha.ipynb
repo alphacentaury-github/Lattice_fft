{
 "cells": [
  {
   "cell_type": "markdown",
   "metadata": {},
   "source": [
    "# halo EFT \n",
    "\n",
    "$n-\\alpha$ scattering calculation from __C.A. Bertulani et al. NPA712(2002)37-58__\n",
    "\n",
    " $p_{1/2}$ non-resonant\n",
    " \n",
    " $p_{3/2}$ -> resonance at E~1 MeV, shallow virtual bound state\n",
    "  This requires new power counting.           \n",
    " \n",
    " $s_{1/2}$ non-resonant\n",
    " "
   ]
  },
  {
   "cell_type": "code",
   "execution_count": 110,
   "metadata": {},
   "outputs": [],
   "source": [
    "import numpy\n",
    "import numpy as np\n",
    "\n",
    "import matplotlib.pyplot as plt\n",
    "\n",
    "import scipy \n",
    "import scipy.special\n",
    "from scipy.special import factorial\n",
    "\n",
    "from sympy.physics.sho import E_nl\n",
    "from sympy import symbols\n",
    "from sympy.physics.sho import R_nl\n",
    "from sympy import var\n",
    "from sympy.physics.wigner import wigner_9j\n",
    "from sympy.physics.wigner import wigner_6j\n",
    "from sympy.physics.wigner import wigner_3j\n",
    "from sympy.physics.wigner import clebsch_gordan\n",
    "\n",
    "from functools import lru_cache\n",
    "\n",
    "hbarc = 197.326968 # MeV.fm \n",
    "amu = 931.4940954 # MeV\n",
    "mass_p  = 938.272    \n",
    "mass_n  = 939.5653\n",
    "mass_N = (mass_p+mass_n)/2.0\n",
    "alpha = 1.0/137.035\n",
    "\n",
    "mass_alpha = 3727.4 # MeV \n",
    "\n",
    "reduced_mass = mass_n*mass_alpha/(mass_n+mass_alpha)\n",
    "fm = 1/hbarc # MeV^-1 "
   ]
  },
  {
   "cell_type": "markdown",
   "metadata": {},
   "source": [
    "## ERE of Table 1.\n",
    "\n",
    "ERE of n-alpha is already known as Table 1.  \n",
    "\n",
    "The power counting scale estimation in the text below table 1.\n",
    "(Be careful for the units)"
   ]
  },
  {
   "cell_type": "code",
   "execution_count": 75,
   "metadata": {},
   "outputs": [
    {
     "name": "stdout",
     "output_type": "stream",
     "text": [
      "**M_{lo} and M_{hi} estimation (MeV) from ERE \n",
      "1+ channel =  49.60425122682985 87.0113265396 262.92733910726184\n",
      "0+ channel =  80.08074672294143 284.94869025270754\n",
      "1- channel =  82.22551845682871 41.339999795999994\n"
     ]
    }
   ],
   "source": [
    "#----------ERE data\n",
    "ERE_data={'0+': [2.4641*fm, 1.385*fm,0.0], '1-':[-13.821*fm**3,-0.419*fm**(-1),0.0],'1+':[-62.951*fm**3,-0.8819*fm**(-1),-3.002*fm]}\n",
    "\n",
    "# scale estimation\n",
    "print('**M_{lo} and M_{hi} estimation (MeV) from ERE ')\n",
    "print('1+ channel = ', 1/(-ERE_data['1+'][0])**(1./3), 1/(-ERE_data['1+'][1]/2)**(-1), 1/(-ERE_data['1+'][2]/4)  )\n",
    "\n",
    "print('0+ channel = ',1/(ERE_data['0+'][0]), 1/(ERE_data['0+'][1]/2) )\n",
    "\n",
    "print('1- channel = ',1/(-ERE_data['1-'][0])**(1/3), 1/(-ERE_data['1-'][1]/2)**(-1) )\n"
   ]
  },
  {
   "cell_type": "markdown",
   "metadata": {},
   "source": [
    "## Phase shift of 1+ channel Fig. 4\n",
    "Phase shift extracted as eq.(24)\n",
    "\n",
    "$ \\delta_{l} = \\frac{1}{2 i}\\log (1+2ik*f_l) $\n",
    "\n",
    "where $f_{l}$ partial wave scattering amplitudes  eq.(30)\n",
    "\n",
    "LO amplitudes from eq.(46) , NLO amplitudes from eq.(49)"
   ]
  },
  {
   "cell_type": "code",
   "execution_count": 87,
   "metadata": {},
   "outputs": [
    {
     "data": {
      "text/plain": [
       "<matplotlib.legend.Legend at 0x1943511d1c8>"
      ]
     },
     "execution_count": 87,
     "metadata": {},
     "output_type": "execute_result"
    },
    {
     "data": {
      "image/png": "[encoded data removed]",
      "text/plain": [
       "<Figure size 432x288 with 1 Axes>"
      ]
     },
     "metadata": {
      "needs_background": "light"
     },
     "output_type": "display_data"
    }
   ],
   "source": [
    "# 1+ phase shift \n",
    "a = ERE_data['1+'][0]  # to MeV units\n",
    "r = ERE_data['1+'][1]     # to MeV units\n",
    "P = ERE_data['1+'][2]     # to MeV units   \n",
    "\n",
    "# in lab frame energy \n",
    "E_lab = np.linspace(0.01,4,40) \n",
    "E_cm =  reduced_mass/mass_n*E_lab\n",
    "k_list = np.sqrt(2*reduced_mass*E_cm)\n",
    "\n",
    "# scattering Amplitudes ( f_{1+} )\n",
    "f_LO = k_list**2/(-1./a+r/2*k_list**2-1j*k_list**3)\n",
    "f_NLO= P1p/4.0*k_list**6/(-1./a+r/2*k_list**2-1j*k_list**3)**2\n",
    "\n",
    "# LO phase shift\n",
    "temp=1+2*1j*k_list*f_LO\n",
    "delta = np.log(temp)/(2*1j)*180/np.pi \n",
    "for i in range(len(delta)):\n",
    "    if delta[i]<0:\n",
    "        delta[i]=delta[i]+180\n",
    "delta_LO = delta\n",
    "\n",
    "#NLO phase shift\n",
    "temp=1+2*1j*k_list*(f_LO+f_NLO)\n",
    "delta = np.log(temp)/(2*1j)*180/np.pi \n",
    "for i in range(len(delta)):\n",
    "    if delta[i]<0:\n",
    "        delta[i]=delta[i]+180\n",
    "delta_NLO = delta\n",
    "        \n",
    "# plot as a function of neutron kinetic energy vs pahse shift \n",
    "plt.plot(E_lab,np.real(delta_LO),label='1+ LO' )\n",
    "plt.plot(E_lab,np.real(delta_NLO),label='1+ NLO')\n",
    "plt.xlabel(r'$E_N$')\n",
    "plt.ylabel(r'$\\delta_{1+}$')\n",
    "plt.legend()"
   ]
  },
  {
   "cell_type": "markdown",
   "metadata": {},
   "source": [
    "## poles of 1+ channel at LO\n",
    "eq.(23)"
   ]
  },
  {
   "cell_type": "code",
   "execution_count": 106,
   "metadata": {},
   "outputs": [
    {
     "name": "stdout",
     "output_type": "stream",
     "text": [
      "gamma_1=99.371692 gamma=-6.180183 gamma_t=34.497475\n",
      "E0=0.818400  Gamma(E0)=0.577271\n"
     ]
    }
   ],
   "source": [
    "# 1+ \n",
    "a = ERE_data['1+'][0]  # to MeV units\n",
    "r = ERE_data['1+'][1]     # to MeV units\n",
    "P = ERE_data['1+'][2]     # to MeV units   \n",
    "\n",
    "# pole positions \n",
    "a1=abs(a); r1=abs(r) ;\n",
    "\n",
    "v = (108+a1*r1**3+108*np.sqrt(1+a1*(r1**3)/54))**(1./3)\n",
    "\n",
    "gamma_1= (r1+a1**(1/3.)*r1**2/v+v/a1**(1./3) )/6.\n",
    "gamma = (r1-a1**(1/3.)*r1**2/(2*v)-v/(2*a1**(1./3)) )/6.\n",
    "gamma_t = -np.sqrt(3)/12*(a1**(1./3)*r1**2/v-v/a1**(1./3))\n",
    "print('gamma_1=%f gamma=%f gamma_t=%f'%(gamma_1,gamma,gamma_t))\n",
    "\n",
    "E0 = (gamma**2+gamma_t**2)/(2*reduced_mass)\n",
    "Gamma = -4*gamma*np.sqrt(E0/(2*reduced_mass) )\n",
    "print('E0=%f  Gamma(E0)=%f'%(E0,Gamma))"
   ]
  },
  {
   "cell_type": "markdown",
   "metadata": {},
   "source": [
    "## Phase shift 0+ channel Fig.5\n",
    "\n",
    "Problem? At first, eq.(47) implies that f_{NLO}=-a  for 0+ channel.\n",
    "\n",
    "However, the phase shift plot corresponds to f_{NLO}=1/(-1/a - i k) \n"
   ]
  },
  {
   "cell_type": "code",
   "execution_count": 102,
   "metadata": {},
   "outputs": [
    {
     "data": {
      "text/plain": [
       "<matplotlib.legend.Legend at 0x19436665f88>"
      ]
     },
     "execution_count": 102,
     "metadata": {},
     "output_type": "execute_result"
    },
    {
     "data": {
      "image/png": "[encoded data removed]",
      "text/plain": [
       "<Figure size 432x288 with 1 Axes>"
      ]
     },
     "metadata": {
      "needs_background": "light"
     },
     "output_type": "display_data"
    }
   ],
   "source": [
    "# 1+ phase shift \n",
    "a = ERE_data['0+'][0]  \n",
    "r = ERE_data['0+'][1]  \n",
    "P = ERE_data['0+'][2]  \n",
    "# in lab frame energy \n",
    "E_lab = np.linspace(0.01,4,40) \n",
    "E_cm =  reduced_mass/mass_n*E_lab\n",
    "k_list = np.sqrt(2*reduced_mass*E_cm)\n",
    "\n",
    "# scattering Amplitudes ( f_{0+} )\n",
    "#f_LO = 0.0\n",
    "#f_NLO= -a\n",
    "\n",
    "f_LO =0.0\n",
    "f_NLO= 1/(-1/a-1j*k_list)\n",
    "\n",
    "#f_LO =0.0\n",
    "#f_NLO= -a*(1-1j*a*k_list)\n",
    "\n",
    "#NLO phase shift\n",
    "temp=1+2*1j*k_list*(f_LO+f_NLO)\n",
    "delta = np.log(temp)/(2*1j)*180/np.pi \n",
    "delta_NLO = delta\n",
    "        \n",
    "# plot as a function of neutron kinetic energy vs pahse shift \n",
    "plt.plot(E_lab,np.real(delta_NLO),label='0+ NLO')\n",
    "plt.xlabel(r'$E_N$')\n",
    "plt.ylabel(r'$\\delta_{0+}$')\n",
    "plt.ylim([-50,0])\n",
    "plt.legend()"
   ]
  },
  {
   "cell_type": "markdown",
   "metadata": {},
   "source": [
    "## Phase shift 1- channel Fig. 8\n"
   ]
  },
  {
   "cell_type": "code",
   "execution_count": 108,
   "metadata": {},
   "outputs": [
    {
     "data": {
      "text/plain": [
       "<matplotlib.legend.Legend at 0x1943689ccc8>"
      ]
     },
     "execution_count": 108,
     "metadata": {},
     "output_type": "execute_result"
    },
    {
     "data": {
      "image/png": "[encoded data removed]",
      "text/plain": [
       "<Figure size 432x288 with 1 Axes>"
      ]
     },
     "metadata": {
      "needs_background": "light"
     },
     "output_type": "display_data"
    }
   ],
   "source": [
    "# 1+ phase shift \n",
    "a = ERE_data['1-'][0]  # to MeV units\n",
    "r = ERE_data['1-'][1]     # to MeV units\n",
    "P = ERE_data['1-'][2]     # to MeV units   \n",
    "\n",
    "# in lab frame energy \n",
    "E_lab = np.linspace(0.01,4,40) \n",
    "E_cm =  reduced_mass/mass_n*E_lab\n",
    "k_list = np.sqrt(2*reduced_mass*E_cm)\n",
    "\n",
    "# scattering Amplitudes ( f_{1-} ) in modified power counting \n",
    "f_LO = k_list**2/(-1./a+r/2*k_list**2-1j*k_list**3)\n",
    "\n",
    "# LO phase shift\n",
    "temp=1+2*1j*k_list*f_LO\n",
    "delta = np.log(temp)/(2*1j)*180/np.pi \n",
    "delta_LO = delta\n",
    "\n",
    "\n",
    "# scattering Amplitudes ( f_{1-} ) in modified power counting \n",
    "f_test = k_list**2/(-1./a-1j*k_list**3)\n",
    "\n",
    "# LO phase shift\n",
    "temp=1+2*1j*k_list*f_test\n",
    "delta = np.log(temp)/(2*1j)*180/np.pi \n",
    "delta_test = delta\n",
    "\n",
    "# plot as a function of neutron kinetic energy vs pahse shift \n",
    "plt.plot(E_lab,np.real(delta_LO),label='1- LO' )\n",
    "plt.plot(E_lab,np.real(delta_test),label='1- test' )\n",
    "plt.xlabel(r'$E_N$')\n",
    "plt.ylabel(r'$\\delta_{1-}$')\n",
    "plt.legend()"
   ]
  },
  {
   "cell_type": "markdown",
   "metadata": {},
   "source": [
    "## Differential cross section Fig.7\n",
    "\n",
    "Using general formula in the note \n",
    "\n",
    "__Be careful for the notation of scipy for clebsch-gordan and spherical harmonics !!__"
   ]
  },
  {
   "cell_type": "code",
   "execution_count": 192,
   "metadata": {},
   "outputs": [],
   "source": [
    "def scattering_amp(m,mp,theta,kcm):\n",
    "    \"\"\"\n",
    "    n+alpha scattering amplitude\n",
    "    \n",
    "    Be careful that output is fm units  \n",
    "    \"\"\"\n",
    "    # scattering Amplitudes f[L,J]\n",
    "    f={}\n",
    "    # 1+ channel amplitude \n",
    "    (a,r,P) = ERE_data['1+']\n",
    "    f[1,1.5] = kcm**2/(-1./a+r/2*kcm**2-1j*kcm**3)+P1p/4.0*kcm**6/(-1./a+r/2*kcm**2-1j*kcm**3)**2\n",
    "    # 1- channel \n",
    "    (a,r,P) = ERE_data['1-']\n",
    "    f[1,0.5] = kcm**2/(-1./a+r/2*kcm**2-1j*kcm**3)\n",
    "    # 0+ channel\n",
    "    (a,r,P) = ERE_data['0+']\n",
    "    f[0,0.5] = 1/(-1./a-1j*kcm)\n",
    "    # sum over L,M,J\n",
    "    sums =0.0\n",
    "    for J in np.arange(0.5,1.5+1):\n",
    "        for L in np.arange(0,1+1):\n",
    "            factor = np.sqrt(4*np.pi*(2*L+1))*float(clebsch_gordan(L,0.5,J, 0,m,m))*float(clebsch_gordan(L,0.5,J, m-mp,mp,m))\n",
    "            if abs(factor)>1.e-24:\n",
    "                sums = sums + factor*scipy.special.sph_harm(m-mp,L, 0,theta)*f[L,J]\n",
    "                #print(factor,scipy.special.sph_harm(m-mp,L,theta, 0),f[L,J]  )\n",
    "    return sums*hbarc  #unit conversion             \n",
    "                \n",
    "def unpol_diff_cs(theta,kcm):\n",
    "    \"\"\"unpolarized differential cross section\n",
    "       in unit of fm^2 \n",
    "    \"\"\"\n",
    "    sums=0.0\n",
    "    for m in [-0.5,0.5]:\n",
    "        for mp in [-0.5,0.5]:\n",
    "            sums = sums + np.abs(scattering_amp(m,mp,theta,kcm))**2\n",
    "    return sums/2.0        \n",
    "    "
   ]
  },
  {
   "cell_type": "code",
   "execution_count": 196,
   "metadata": {},
   "outputs": [
    {
     "data": {
      "image/png": "[encoded data removed]",
      "text/plain": [
       "<Figure size 432x288 with 1 Axes>"
      ]
     },
     "metadata": {
      "needs_background": "light"
     },
     "output_type": "display_data"
    }
   ],
   "source": [
    "kcm=49.6 ;\n",
    "thetaCM=np.linspace(0.0,np.pi,50)\n",
    "ds=np.zeros(len(thetaCM))\n",
    "for i in range(len(thetaCM)):\n",
    "    ds[i]=unpol_diff_cs(thetaCM[i],kcm)\n",
    "    \n",
    "plt.plot(thetaCM*180/np.pi,ds/100.)   #into barn unit\n",
    "plt.xlabel(r'theta_{CM}')\n",
    "plt.ylabel(r'ds ($fm^2$)')\n",
    "plt.ylim([0,1]);\n",
    "plt.xlim([0,180]);"
   ]
  },
  {
   "cell_type": "code",
   "execution_count": null,
   "metadata": {},
   "outputs": [],
   "source": []
  }
 ],
 "metadata": {
  "kernelspec": {
   "display_name": "Python 3",
   "language": "python",
   "name": "python3"
  },
  "language_info": {
   "codemirror_mode": {
    "name": "ipython",
    "version": 3
   },
   "file_extension": ".py",
   "mimetype": "text/x-python",
   "name": "python",
   "nbconvert_exporter": "python",
   "pygments_lexer": "ipython3",
   "version": "3.7.4"
  }
 },
 "nbformat": 4,
 "nbformat_minor": 4
}
