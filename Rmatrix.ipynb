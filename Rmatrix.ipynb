{
 "cells": [
  {
   "cell_type": "markdown",
   "metadata": {},
   "source": [
    "# Simple R-matrix calculation\n",
    "\n",
    "R-matrix methods\n",
    "\n",
    "Created on Fri Feb  9 10:16:47 2018\n",
    "\n",
    "@author: Y.-H.Song\n",
    "\n",
    "basic unit are MeV. "
   ]
  },
  {
   "cell_type": "code",
   "execution_count": 4,
   "metadata": {},
   "outputs": [],
   "source": [
    "import numpy\n",
    "import numpy as np \n",
    "import matplotlib.pyplot as plt\n",
    "import mpmath  # for Coulomb functions\n",
    "import sympy\n",
    "import scipy\n",
    "\n",
    "import numpy\n",
    "import numpy as np\n",
    "\n",
    "import matplotlib.pyplot as plt\n",
    "\n",
    "import scipy \n",
    "import scipy.special\n",
    "from scipy.special import factorial\n",
    "\n",
    "from sympy.physics.sho import E_nl\n",
    "from sympy import symbols\n",
    "from sympy.physics.sho import R_nl\n",
    "from sympy import var\n",
    "from sympy.physics.wigner import wigner_9j\n",
    "from sympy.physics.wigner import wigner_6j\n",
    "from sympy.physics.wigner import wigner_3j\n",
    "from sympy.physics.wigner import clebsch_gordan\n",
    "\n",
    "from functools import lru_cache\n",
    "\n",
    "\n",
    "hbarc =197.3269788 # MeV.fm\n",
    "alpha_em =1./137.035999 # fine structure constrant\n",
    "                        # or alpha_em=e^2=1.44 MeV.fm  \n",
    "amu = 931.4940954 # MeV/c^2 \n",
    "mpi = 138.03898   # MeV/c^2 isoscalar pion mass \n",
    "conls=2.00   # hbar^2/(mpi^2 c^2) ~ 2.043 fm^2 for average pion  \n",
    "mp  = 938.272    \n",
    "mn  = 939.5653\n",
    "mN = (mp+mn)/2.0 # isosclar nucleon mass\n",
    "\n",
    "amu = 931.4940954 # MeV\n",
    "mass_p  = 938.272    \n",
    "mass_n  = 939.5653\n",
    "mass_N = (mass_p+mass_n)/2.0\n",
    "alpha = 1.0/137.03599\n",
    "\n",
    "mass_alpha = 3727.4 # MeV \n",
    "\n",
    "fm = 1/hbarc # MeV^-1 "
   ]
  },
  {
   "cell_type": "markdown",
   "metadata": {},
   "source": [
    "## Routines for Basis functions\n",
    "\n",
    "basis_sine\n",
    "\n",
    "basis_Gaussian\n",
    "\n",
    "basis_Gaussian_I\n",
    "\n",
    "basis_Lagrange\n",
    "\n"
   ]
  },
  {
   "cell_type": "code",
   "execution_count": 5,
   "metadata": {},
   "outputs": [],
   "source": [
    "def basis_sine(r,i,a):\n",
    "    \"\"\"\n",
    "    phi_i(r)=sin((pi*r/a)*(i-0.5))\n",
    "    with r in (0,a)\n",
    "    \"\"\"\n",
    "    return numpy.sin(numpy.pi*r/a*(i-0.5)) \n",
    "\n",
    "def basis_Gaussian(r,l,i,b1,x0):\n",
    "    \"\"\"\n",
    "    phi_i(r)=r^(l+1)*exp(-(r/bi)^2)\n",
    "    bi=b1*x0**(i-1)\n",
    "    \n",
    "    index i=1,2,... \n",
    "    \"\"\"\n",
    "    bi=b1*x0**(i-1)\n",
    "    xx=(r/bi)**2        \n",
    "    return r**(l+1)*numpy.exp(-xx)\n",
    "\n",
    "def basis_Gaussian_I(k,nu,ch_radius=7.0):\n",
    "    \"\"\"\n",
    "    eq.(C3) \n",
    "    note that channel radius 'a' is implied \n",
    "    \"\"\"\n",
    "    a=ch_radius\n",
    "    kk=(k+1)*0.5 # (k+1)/2\n",
    "    numer=( scipy.special.gamma(kk)\n",
    "          *scipy.special.gammainc(kk,nu*a**2) )\n",
    "    denom=2.0*nu**kk\n",
    "    return numer/denom\n",
    "\n",
    "def basis_Lagrange(orderN,indexi,r,ch_radius,weights=None,pointsx=None):\n",
    "    \"\"\" return Lagrange function value at r\n",
    "        (4.7) of Rep.Prog.Phys.73(2010)036301\n",
    "        \n",
    "        phi_i(r) \n",
    "        \n",
    "        note indexi=1,2,...\n",
    "        \n",
    "        weights and pointsx are for Gauss-Legendre quadrature\n",
    "        in (0,1) range.                \n",
    "    \"\"\"\n",
    "    if (indexi < 1) or (orderN < 1 ):\n",
    "        raise ValueError('Lagrange function index or order is wrong')\n",
    "    # if weight and xi are given \n",
    "    if pointsx and weights:\n",
    "        # check order \n",
    "        if (orderN != len(pointsx)) : \n",
    "            raise ValueError('Lagrange function order N mismatch')\n",
    "            return\n",
    "    else: # points xi is not given have to compute\n",
    "        pointsx, weights=leggau(0.,1.,orderN)\n",
    "    # compute Legendre Polynomial \n",
    "    xi=pointsx[indexi-1] \n",
    "    wi=weights[indexi-1]\n",
    "    \n",
    "    #---in casse at mesh points\n",
    "    if abs(r-ch_radius*xi) < 1.0e-16 : # i=j case\n",
    "        result= 1.0/np.sqrt(ch_radius*wi)\n",
    "    else:\n",
    "        PN_val=scipy.special.lpn(orderN,2*r/ch_radius-1.0)[0][orderN]   \n",
    "        result=(-1)**(orderN+indexi)*(r/ch_radius/xi)*(\n",
    "           np.sqrt(ch_radius*xi*(1-xi))*PN_val/(r-ch_radius*xi)) \n",
    "    \n",
    "    return result"
   ]
  },
  {
   "cell_type": "markdown",
   "metadata": {},
   "source": [
    "## Required subroutines \n",
    "\n",
    "(1) leggau : Legendre quadrature points and weights \n",
    "\n",
    "(2) Coulomb related functions \n",
    "    \n"
   ]
  },
  {
   "cell_type": "code",
   "execution_count": 6,
   "metadata": {},
   "outputs": [],
   "source": [
    "def leggau(rmin,rmax,degree):\n",
    "  \"\"\" get quadradure points and weights\n",
    "  \"\"\"  \n",
    "  import numpy.polynomial.legendre as lg\n",
    "  x , w = lg.leggauss(degree) # in range (-1,1) \n",
    "  x = (rmax+rmin)/2.+x*(rmax-rmin)/2.\n",
    "  w = (rmax-rmin)/2.*w\n",
    "  return x, w"
   ]
  },
  {
   "cell_type": "code",
   "execution_count": 40,
   "metadata": {},
   "outputs": [],
   "source": [
    "def Coulomb_eta(charge_product,reduced_mass,pcm):\n",
    "    \"\"\"\n",
    "        eta = Z1*Z2*alpha_em*(reduced_mass)/p \n",
    "    \"\"\"\n",
    "    return charge_product*alpha*(reduced_mass)/pcm \n",
    "\n",
    "\n",
    "def coulomb_phase_shift(l,eta):\n",
    "    \"\"\"\n",
    "    Coulomb phase shift sigma_l(eta)\n",
    "    \"\"\"\n",
    "    z=scipy.special.gamma(l+1+1j*eta)\n",
    "    return numpy.angle(z)\n",
    "  \n",
    "def Coulomb_phaseshift(L,eta):\n",
    "    return np.angle(scipy.special.gamma(L+1+1j*eta))\n",
    "\n",
    "def Coulomb_factor(L,eta):\n",
    "    \"\"\"\n",
    "    Gamow-Sommerfeld factor C_l(eta)**2\n",
    "    \"\"\"\n",
    "    return np.exp(-np.pi*eta)*scipy.special.gamma(L+1+1j*eta)*scipy.special.gamma(L+1-1j*eta)\n",
    "\n",
    "def Coulomb_norm_factor(L,eta):\n",
    "    \"\"\"\n",
    "    normalization factor C_L(eta) eq.33.2.5 of NIST book\n",
    "    \"\"\"\n",
    "    C_L = 2**L*np.exp(-np.pi*eta*0.5)/factorial(2*L+1)*np.abs(scipy.special.gamma(L+1+1j*eta))\n",
    "    return C_L[0]\n",
    "\n",
    "def Coulomb_h_l(L,eta,pcm):\n",
    "    \"\"\"\n",
    "    h_l(eta)\n",
    "    \n",
    "    Note : not well defined numerically at eta =0.\n",
    "    \"\"\"\n",
    "    temp=pcm**(2*L)*Coulomb_factor(L,eta)/Coulomb_factor(0,eta)\n",
    "    out =temp*(scipy.special.digamma(1j*eta)+1./(2*1j*eta)-np.log(1j*eta))\n",
    "    return out \n",
    "\n",
    "def Coulomb_scattering_amplitude(theta,eta,kcm):\n",
    "    \"\"\"\n",
    "    Coulomb scattering amplitude for spin-less particle\n",
    "    \"\"\"\n",
    "    temp1 = -eta/(2*kcm*np.sin(theta/2.0)**2)\n",
    "    temp2 = np.exp(-1j*eta*np.log(np.sin(theta/2.0)**2)+2*1j* Coulomb_phaseshift(0,eta)   )\n",
    "    return temp1*temp2\n",
    "\n",
    "def coulomb_scat_amp(theta,eta,kmom):\n",
    "    \"\"\"\n",
    "    Rutherford scattering amplitude\n",
    "    \n",
    "    theta in radian\n",
    "    \"\"\"\n",
    "    sin_value=numpy.sin(0.5*theta)\n",
    "    exponent=coulomb_phase_shift(0,eta)-eta*numpy.log(sin_value)\n",
    "    scatt_amp=-eta/(2.0*kmom*sin_value**2)*numpy.exp(2.0*1j*exponent)\n",
    "    return scatt_amp\n",
    "\n",
    "def coulomb_dsda(theta,eta,kmom):\n",
    "    \"\"\"\n",
    "    Rutherford differential cross section \n",
    "    \"\"\"\n",
    "    sin_value=numpy.sin(0.5*theta)\n",
    "    return eta**2/(4.0*kmom**2*sin_value**4)"
   ]
  },
  {
   "cell_type": "markdown",
   "metadata": {},
   "source": [
    "## Asymptotic Coulomb wave for R-matrix calculation\n",
    "\n",
    "hard_sphere_phase\n",
    "\n",
    "Shift-Penn \n",
    "\n",
    "__Unfortunately, the only available implementation of complex hypergeometric function or Coulomb functions are from mpmath package.   It can be slow.\n",
    "  Scipy cannot handle complex parameters.__"
   ]
  },
  {
   "cell_type": "code",
   "execution_count": 41,
   "metadata": {},
   "outputs": [],
   "source": [
    "\n",
    "def hard_sphere_phase(l,k,a,eta):\n",
    "    \"\"\"\n",
    "      return hard sphere phase shift in radian\n",
    "      \n",
    "      phi_l(k)=-arctan(F_l(eta,ka)/G_l(eta,ka))\n",
    "      \n",
    "      k in MeV\n",
    "      a in fm\n",
    "    \"\"\"\n",
    "    z=k*a/hbarc\n",
    "    Fl=mpmath.fp.coulombf(l,eta,z)\n",
    "    Gl=mpmath.fp.coulombg(l,eta,z)\n",
    "    return -numpy.arctan2(Fl,Gl)\n",
    "\n",
    "\n",
    "def plot_shift_penn_factor(l,Z1=0,Z2=0,plot=False):\n",
    "    \"\"\"\n",
    "    Plot S_l and P_l as a function of \n",
    "     E in hbar^2/(2mu a^2) units\n",
    "     k a =sqrt( E in hbar^2/(2mu a^2) units )\n",
    "     Thus \n",
    "     S_l(0,z) and P_l(0,z) with z=sqrt(E')\n",
    "     \n",
    "     in case of charged, choose a=aB. so that\n",
    "     eta=sgn(Z1*Z2)/(k aB)=sgn(Z1*Z2)/ z.\n",
    "     \n",
    "    \"\"\"\n",
    "    ens=numpy.arange(0.01,2,0.05)\n",
    "    ks=numpy.sqrt(ens)\n",
    "    etas=numpy.sign(Z1*Z2)/ks\n",
    "    Sls=numpy.zeros(len(ens))\n",
    "    Pls=numpy.zeros(len(ens))\n",
    "    for i in range(len(ens)):\n",
    "        en=ens[i]        \n",
    "        eta=etas[i]\n",
    "        z=numpy.sqrt(en)\n",
    "        \n",
    "        Flx = lambda x: mpmath.coulombf(l,eta,x)\n",
    "        Glx = lambda x: mpmath.coulombg(l,eta,x)\n",
    "    \n",
    "        Fl = Flx(z)\n",
    "        Gl = Glx(z)\n",
    "        Flp = mpmath.diff(Flx,z)\n",
    "        Glp = mpmath.diff(Glx,z)\n",
    "        \n",
    "        Pl=z/(Fl**2+Gl**2)\n",
    "        Sl=Pl*(Fl*Flp+Gl*Glp)\n",
    "        \n",
    "        Sl=sympy.sympify(Sl)\n",
    "        Pl=sympy.sympify(Pl)\n",
    "        Sls[i]=Sl\n",
    "        Pls[i]=Pl\n",
    "    if plot:    \n",
    "        plt.subplot(211)    \n",
    "        plt.plot(ens,Pls)    \n",
    "        plt.xlabel('E')\n",
    "        plt.ylabel('Pl(E)')\n",
    "        plt.subplot(212)\n",
    "        plt.plot(ens,Sls)\n",
    "        plt.xlabel('E')\n",
    "        plt.ylabel('Sl(E)')\n",
    "    return ens,Sls,Pls    \n",
    "    \n",
    "def shift_penn_factor(l,eta,z):\n",
    "    \"\"\"\n",
    "     compute\n",
    "     Shift factor S_l(k) and\n",
    "     Pennetration factor P_l(k)\n",
    "     \n",
    "     l = orbital angular momentum\n",
    "     eta = Sommerfeld parameter\n",
    "     z = k*a dimensionless     \n",
    "     \n",
    "     CAUTION: that the derivative over energy\n",
    "     requires derivative of eta \n",
    "     as well as z!!\n",
    "    \"\"\"    \n",
    "    Flx = lambda x: mpmath.coulombf(l,eta,x)\n",
    "    Glx = lambda x: mpmath.coulombg(l,eta,x)\n",
    "            \n",
    "    Fl = Flx(z)\n",
    "    Gl = Glx(z)\n",
    "    \n",
    "    Flp =  mpmath.diff(Flx,z)\n",
    "    Glp =  mpmath.diff(Glx,z)\n",
    "  \n",
    "    Ol=Gl+1j*Fl\n",
    "    Olp=Glp+1j*Flp\n",
    "          \n",
    "    Ll=z*Olp/Ol\n",
    "        \n",
    "    Sl=sympy.sympify(Ll.real)\n",
    "    Pl=sympy.sympify(Ll.imag)\n",
    "        \n",
    "    return (Sl,Pl)\n",
    "\n",
    "def shift_penn_dfactors(l,en,mu,z1z2,ch_radius,dE=0.0001) :\n",
    "    \"\"\"\n",
    "      compute S_l(E), P_l(E)\n",
    "      and S'_l(E) and P'_l(E)\n",
    "      numerically\n",
    "      \n",
    "      en: MeV\n",
    "      mu: MeV\n",
    "      z1z2: product of zharge\n",
    "      ch_radius: fm \n",
    "    \"\"\"\n",
    "    k0=numpy.sqrt(2.0*mu*en)\n",
    "    eta0=z1z2*alpha_em*mu/k0\n",
    "    z0=k0*ch_radius/hbarc\n",
    "    \n",
    "    k1=numpy.sqrt(2.0*mu*(en-dE))\n",
    "    eta1=z1z2*alpha_em*mu/k1\n",
    "    z1=k1*ch_radius/hbarc\n",
    "    \n",
    "    k2=numpy.sqrt(2.0*mu*(en+dE))\n",
    "    eta2=z1z2*alpha_em*mu/k2\n",
    "    z2=k2*ch_radius/hbarc\n",
    "        \n",
    "    (Sl,Pl)=shift_penn_factor(l,eta0,z0)\n",
    "    (Sl1,Pl1)=shift_penn_factor(l,eta1,z1)\n",
    "    (Sl2,Pl2)=shift_penn_factor(l,eta2,z2)\n",
    "    \n",
    "    Slp=(Sl2-Sl1)/(2.0*dE)\n",
    "    Plp=(Pl2-Pl1)/(2.0*dE)\n",
    "    \n",
    "    return (float(Sl),float(Pl),float(Slp),float(Plp))\n",
    "\n",
    "def Coulomb_functions(L,eta,rho):\n",
    "    \"\"\"\n",
    "    Coulomb functions \n",
    "    F_L(eta,rho), G_L(eta,rho), H_L^+(eta,rho) and H_L^-(eta,rho)\n",
    "    defined in NIST book eq.(33.2.8) and (33.2.11)\n",
    "    \n",
    "    G_l, H_l's are irregular at rho = 0. \n",
    "    \n",
    "    Unfortunately, scipy hypergeometric functions can only take real parameters. \n",
    "    Thus, it cannot be used to define Coulomb functions...\n",
    "    \n",
    "    \"\"\"\n",
    "    sigma_L = coulomb_phase_shift(L,eta)\n",
    "    theta_L = rho-eta*np.log(2*rho)-0.5*np.pi*L+sigma_L \n",
    "    if (rho > 0):\n",
    "        Hplus_L = np.exp(1j*theta_L)*(-2*1j*rho)**(L+1+1j*eta)*scipy.special.hyperu(L+1+1j*eta,2*L+2, -2*1j*rho)\n",
    "        Hmins_L = np.conjugate(Hplus_L)\n",
    "        G_L     = np.real(Hplus_L)\n",
    "        F_L     = np.imag(Hplus_L)\n",
    "    else: \n",
    "        Hplus_L = None\n",
    "        Hmins_L = None\n",
    "        G_L     = None\n",
    "        F_L     = Coulomb_norm_factor(L,eta)*rho**(L+1)*np.exp(-1j*rho)*scipy.special.hyp1f1(L+1-1j*eta, 2*L+2, 2*1j*rho)\n",
    "    return (F_L, G_L, Hplus_L, Hmins_L)\n",
    "\n"
   ]
  },
  {
   "cell_type": "code",
   "execution_count": 45,
   "metadata": {},
   "outputs": [
    {
     "ename": "TypeError",
     "evalue": "ufunc 'hyperu' not supported for the input types, and the inputs could not be safely coerced to any supported types according to the casting rule ''safe''",
     "output_type": "error",
     "traceback": [
      "\u001b[1;31m---------------------------------------------------------------------------\u001b[0m",
      "\u001b[1;31mTypeError\u001b[0m                                 Traceback (most recent call last)",
      "\u001b[1;32m<ipython-input-45-49926acf6a08>\u001b[0m in \u001b[0;36m<module>\u001b[1;34m\u001b[0m\n\u001b[1;32m----> 1\u001b[1;33m \u001b[0mscipy\u001b[0m\u001b[1;33m.\u001b[0m\u001b[0mspecial\u001b[0m\u001b[1;33m.\u001b[0m\u001b[0mhyperu\u001b[0m\u001b[1;33m(\u001b[0m\u001b[0mnp\u001b[0m\u001b[1;33m.\u001b[0m\u001b[0marray\u001b[0m\u001b[1;33m(\u001b[0m\u001b[1;33m[\u001b[0m\u001b[1;36m2\u001b[0m\u001b[1;33m+\u001b[0m\u001b[1;36m1\u001b[0m\u001b[1;33m+\u001b[0m\u001b[1;36m1j\u001b[0m\u001b[1;33m*\u001b[0m\u001b[1;36m1.0\u001b[0m\u001b[1;33m]\u001b[0m\u001b[1;33m)\u001b[0m\u001b[1;33m,\u001b[0m\u001b[0mnp\u001b[0m\u001b[1;33m.\u001b[0m\u001b[0marray\u001b[0m\u001b[1;33m(\u001b[0m\u001b[1;33m[\u001b[0m\u001b[1;36m2\u001b[0m\u001b[1;33m*\u001b[0m\u001b[1;36m2\u001b[0m\u001b[1;33m+\u001b[0m\u001b[1;36m2\u001b[0m\u001b[1;33m]\u001b[0m\u001b[1;33m)\u001b[0m\u001b[1;33m,\u001b[0m \u001b[0mnp\u001b[0m\u001b[1;33m.\u001b[0m\u001b[0marray\u001b[0m\u001b[1;33m(\u001b[0m\u001b[1;33m[\u001b[0m\u001b[1;33m-\u001b[0m\u001b[1;36m2\u001b[0m\u001b[1;33m*\u001b[0m\u001b[1;36m1j\u001b[0m\u001b[1;33m*\u001b[0m\u001b[1;36m1.5\u001b[0m\u001b[1;33m]\u001b[0m\u001b[1;33m)\u001b[0m\u001b[1;33m)\u001b[0m\u001b[1;33m\u001b[0m\u001b[1;33m\u001b[0m\u001b[0m\n\u001b[0m",
      "\u001b[1;31mTypeError\u001b[0m: ufunc 'hyperu' not supported for the input types, and the inputs could not be safely coerced to any supported types according to the casting rule ''safe''"
     ]
    }
   ],
   "source": [
    "scipy.special.hyperu(np.array([2+1+1j*1.0]),np.array([2*2+2]), np.array([-2*1j*1.5]))"
   ]
  },
  {
   "cell_type": "code",
   "execution_count": 42,
   "metadata": {},
   "outputs": [
    {
     "name": "stdout",
     "output_type": "stream",
     "text": [
      "3.18 ms ± 151 µs per loop (mean ± std. dev. of 7 runs, 100 loops each)\n"
     ]
    },
    {
     "ename": "TypeError",
     "evalue": "ufunc 'hyperu' not supported for the input types, and the inputs could not be safely coerced to any supported types according to the casting rule ''safe''",
     "output_type": "error",
     "traceback": [
      "\u001b[1;31m---------------------------------------------------------------------------\u001b[0m",
      "\u001b[1;31mTypeError\u001b[0m                                 Traceback (most recent call last)",
      "\u001b[1;32m<ipython-input-42-53e1587377a3>\u001b[0m in \u001b[0;36m<module>\u001b[1;34m\u001b[0m\n\u001b[0;32m      1\u001b[0m \u001b[0mget_ipython\u001b[0m\u001b[1;33m(\u001b[0m\u001b[1;33m)\u001b[0m\u001b[1;33m.\u001b[0m\u001b[0mrun_line_magic\u001b[0m\u001b[1;33m(\u001b[0m\u001b[1;34m'timeit'\u001b[0m\u001b[1;33m,\u001b[0m \u001b[1;34m'mpmath.coulombf(2,1.0,1.5), mpmath.coulombg(2,1.0,1.5)'\u001b[0m\u001b[1;33m)\u001b[0m\u001b[1;33m\u001b[0m\u001b[1;33m\u001b[0m\u001b[0m\n\u001b[1;32m----> 2\u001b[1;33m \u001b[0mget_ipython\u001b[0m\u001b[1;33m(\u001b[0m\u001b[1;33m)\u001b[0m\u001b[1;33m.\u001b[0m\u001b[0mrun_line_magic\u001b[0m\u001b[1;33m(\u001b[0m\u001b[1;34m'timeit'\u001b[0m\u001b[1;33m,\u001b[0m \u001b[1;34m'Coulomb_functions(2,1.0,1.5)'\u001b[0m\u001b[1;33m)\u001b[0m\u001b[1;33m\u001b[0m\u001b[1;33m\u001b[0m\u001b[0m\n\u001b[0m",
      "\u001b[1;32m~\\Anaconda3\\lib\\site-packages\\IPython\\core\\interactiveshell.py\u001b[0m in \u001b[0;36mrun_line_magic\u001b[1;34m(self, magic_name, line, _stack_depth)\u001b[0m\n\u001b[0;32m   2312\u001b[0m                 \u001b[0mkwargs\u001b[0m\u001b[1;33m[\u001b[0m\u001b[1;34m'local_ns'\u001b[0m\u001b[1;33m]\u001b[0m \u001b[1;33m=\u001b[0m \u001b[0msys\u001b[0m\u001b[1;33m.\u001b[0m\u001b[0m_getframe\u001b[0m\u001b[1;33m(\u001b[0m\u001b[0mstack_depth\u001b[0m\u001b[1;33m)\u001b[0m\u001b[1;33m.\u001b[0m\u001b[0mf_locals\u001b[0m\u001b[1;33m\u001b[0m\u001b[1;33m\u001b[0m\u001b[0m\n\u001b[0;32m   2313\u001b[0m             \u001b[1;32mwith\u001b[0m \u001b[0mself\u001b[0m\u001b[1;33m.\u001b[0m\u001b[0mbuiltin_trap\u001b[0m\u001b[1;33m:\u001b[0m\u001b[1;33m\u001b[0m\u001b[1;33m\u001b[0m\u001b[0m\n\u001b[1;32m-> 2314\u001b[1;33m                 \u001b[0mresult\u001b[0m \u001b[1;33m=\u001b[0m \u001b[0mfn\u001b[0m\u001b[1;33m(\u001b[0m\u001b[1;33m*\u001b[0m\u001b[0margs\u001b[0m\u001b[1;33m,\u001b[0m \u001b[1;33m**\u001b[0m\u001b[0mkwargs\u001b[0m\u001b[1;33m)\u001b[0m\u001b[1;33m\u001b[0m\u001b[1;33m\u001b[0m\u001b[0m\n\u001b[0m\u001b[0;32m   2315\u001b[0m             \u001b[1;32mreturn\u001b[0m \u001b[0mresult\u001b[0m\u001b[1;33m\u001b[0m\u001b[1;33m\u001b[0m\u001b[0m\n\u001b[0;32m   2316\u001b[0m \u001b[1;33m\u001b[0m\u001b[0m\n",
      "\u001b[1;32m<C:\\Users\\user\\Anaconda3\\lib\\site-packages\\decorator.py:decorator-gen-61>\u001b[0m in \u001b[0;36mtimeit\u001b[1;34m(self, line, cell, local_ns)\u001b[0m\n",
      "\u001b[1;32m~\\Anaconda3\\lib\\site-packages\\IPython\\core\\magic.py\u001b[0m in \u001b[0;36m<lambda>\u001b[1;34m(f, *a, **k)\u001b[0m\n\u001b[0;32m    185\u001b[0m     \u001b[1;31m# but it's overkill for just that one bit of state.\u001b[0m\u001b[1;33m\u001b[0m\u001b[1;33m\u001b[0m\u001b[1;33m\u001b[0m\u001b[0m\n\u001b[0;32m    186\u001b[0m     \u001b[1;32mdef\u001b[0m \u001b[0mmagic_deco\u001b[0m\u001b[1;33m(\u001b[0m\u001b[0marg\u001b[0m\u001b[1;33m)\u001b[0m\u001b[1;33m:\u001b[0m\u001b[1;33m\u001b[0m\u001b[1;33m\u001b[0m\u001b[0m\n\u001b[1;32m--> 187\u001b[1;33m         \u001b[0mcall\u001b[0m \u001b[1;33m=\u001b[0m \u001b[1;32mlambda\u001b[0m \u001b[0mf\u001b[0m\u001b[1;33m,\u001b[0m \u001b[1;33m*\u001b[0m\u001b[0ma\u001b[0m\u001b[1;33m,\u001b[0m \u001b[1;33m**\u001b[0m\u001b[0mk\u001b[0m\u001b[1;33m:\u001b[0m \u001b[0mf\u001b[0m\u001b[1;33m(\u001b[0m\u001b[1;33m*\u001b[0m\u001b[0ma\u001b[0m\u001b[1;33m,\u001b[0m \u001b[1;33m**\u001b[0m\u001b[0mk\u001b[0m\u001b[1;33m)\u001b[0m\u001b[1;33m\u001b[0m\u001b[1;33m\u001b[0m\u001b[0m\n\u001b[0m\u001b[0;32m    188\u001b[0m \u001b[1;33m\u001b[0m\u001b[0m\n\u001b[0;32m    189\u001b[0m         \u001b[1;32mif\u001b[0m \u001b[0mcallable\u001b[0m\u001b[1;33m(\u001b[0m\u001b[0marg\u001b[0m\u001b[1;33m)\u001b[0m\u001b[1;33m:\u001b[0m\u001b[1;33m\u001b[0m\u001b[1;33m\u001b[0m\u001b[0m\n",
      "\u001b[1;32m~\\Anaconda3\\lib\\site-packages\\IPython\\core\\magics\\execution.py\u001b[0m in \u001b[0;36mtimeit\u001b[1;34m(self, line, cell, local_ns)\u001b[0m\n\u001b[0;32m   1156\u001b[0m             \u001b[1;32mfor\u001b[0m \u001b[0mindex\u001b[0m \u001b[1;32min\u001b[0m \u001b[0mrange\u001b[0m\u001b[1;33m(\u001b[0m\u001b[1;36m0\u001b[0m\u001b[1;33m,\u001b[0m \u001b[1;36m10\u001b[0m\u001b[1;33m)\u001b[0m\u001b[1;33m:\u001b[0m\u001b[1;33m\u001b[0m\u001b[1;33m\u001b[0m\u001b[0m\n\u001b[0;32m   1157\u001b[0m                 \u001b[0mnumber\u001b[0m \u001b[1;33m=\u001b[0m \u001b[1;36m10\u001b[0m \u001b[1;33m**\u001b[0m \u001b[0mindex\u001b[0m\u001b[1;33m\u001b[0m\u001b[1;33m\u001b[0m\u001b[0m\n\u001b[1;32m-> 1158\u001b[1;33m                 \u001b[0mtime_number\u001b[0m \u001b[1;33m=\u001b[0m \u001b[0mtimer\u001b[0m\u001b[1;33m.\u001b[0m\u001b[0mtimeit\u001b[0m\u001b[1;33m(\u001b[0m\u001b[0mnumber\u001b[0m\u001b[1;33m)\u001b[0m\u001b[1;33m\u001b[0m\u001b[1;33m\u001b[0m\u001b[0m\n\u001b[0m\u001b[0;32m   1159\u001b[0m                 \u001b[1;32mif\u001b[0m \u001b[0mtime_number\u001b[0m \u001b[1;33m>=\u001b[0m \u001b[1;36m0.2\u001b[0m\u001b[1;33m:\u001b[0m\u001b[1;33m\u001b[0m\u001b[1;33m\u001b[0m\u001b[0m\n\u001b[0;32m   1160\u001b[0m                     \u001b[1;32mbreak\u001b[0m\u001b[1;33m\u001b[0m\u001b[1;33m\u001b[0m\u001b[0m\n",
      "\u001b[1;32m~\\Anaconda3\\lib\\site-packages\\IPython\\core\\magics\\execution.py\u001b[0m in \u001b[0;36mtimeit\u001b[1;34m(self, number)\u001b[0m\n\u001b[0;32m    167\u001b[0m         \u001b[0mgc\u001b[0m\u001b[1;33m.\u001b[0m\u001b[0mdisable\u001b[0m\u001b[1;33m(\u001b[0m\u001b[1;33m)\u001b[0m\u001b[1;33m\u001b[0m\u001b[1;33m\u001b[0m\u001b[0m\n\u001b[0;32m    168\u001b[0m         \u001b[1;32mtry\u001b[0m\u001b[1;33m:\u001b[0m\u001b[1;33m\u001b[0m\u001b[1;33m\u001b[0m\u001b[0m\n\u001b[1;32m--> 169\u001b[1;33m             \u001b[0mtiming\u001b[0m \u001b[1;33m=\u001b[0m \u001b[0mself\u001b[0m\u001b[1;33m.\u001b[0m\u001b[0minner\u001b[0m\u001b[1;33m(\u001b[0m\u001b[0mit\u001b[0m\u001b[1;33m,\u001b[0m \u001b[0mself\u001b[0m\u001b[1;33m.\u001b[0m\u001b[0mtimer\u001b[0m\u001b[1;33m)\u001b[0m\u001b[1;33m\u001b[0m\u001b[1;33m\u001b[0m\u001b[0m\n\u001b[0m\u001b[0;32m    170\u001b[0m         \u001b[1;32mfinally\u001b[0m\u001b[1;33m:\u001b[0m\u001b[1;33m\u001b[0m\u001b[1;33m\u001b[0m\u001b[0m\n\u001b[0;32m    171\u001b[0m             \u001b[1;32mif\u001b[0m \u001b[0mgcold\u001b[0m\u001b[1;33m:\u001b[0m\u001b[1;33m\u001b[0m\u001b[1;33m\u001b[0m\u001b[0m\n",
      "\u001b[1;32m<magic-timeit>\u001b[0m in \u001b[0;36minner\u001b[1;34m(_it, _timer)\u001b[0m\n",
      "\u001b[1;32m<ipython-input-41-a61b01187dc1>\u001b[0m in \u001b[0;36mCoulomb_functions\u001b[1;34m(L, eta, rho)\u001b[0m\n\u001b[0;32m    139\u001b[0m     \u001b[0mtheta_L\u001b[0m \u001b[1;33m=\u001b[0m \u001b[0mrho\u001b[0m\u001b[1;33m-\u001b[0m\u001b[0meta\u001b[0m\u001b[1;33m*\u001b[0m\u001b[0mnp\u001b[0m\u001b[1;33m.\u001b[0m\u001b[0mlog\u001b[0m\u001b[1;33m(\u001b[0m\u001b[1;36m2\u001b[0m\u001b[1;33m*\u001b[0m\u001b[0mrho\u001b[0m\u001b[1;33m)\u001b[0m\u001b[1;33m-\u001b[0m\u001b[1;36m0.5\u001b[0m\u001b[1;33m*\u001b[0m\u001b[0mnp\u001b[0m\u001b[1;33m.\u001b[0m\u001b[0mpi\u001b[0m\u001b[1;33m*\u001b[0m\u001b[0mL\u001b[0m\u001b[1;33m+\u001b[0m\u001b[0msigma_L\u001b[0m\u001b[1;33m\u001b[0m\u001b[1;33m\u001b[0m\u001b[0m\n\u001b[0;32m    140\u001b[0m     \u001b[1;32mif\u001b[0m \u001b[1;33m(\u001b[0m\u001b[0mrho\u001b[0m \u001b[1;33m>\u001b[0m \u001b[1;36m0\u001b[0m\u001b[1;33m)\u001b[0m\u001b[1;33m:\u001b[0m\u001b[1;33m\u001b[0m\u001b[1;33m\u001b[0m\u001b[0m\n\u001b[1;32m--> 141\u001b[1;33m         \u001b[0mHplus_L\u001b[0m \u001b[1;33m=\u001b[0m \u001b[0mnp\u001b[0m\u001b[1;33m.\u001b[0m\u001b[0mexp\u001b[0m\u001b[1;33m(\u001b[0m\u001b[1;36m1j\u001b[0m\u001b[1;33m*\u001b[0m\u001b[0mtheta_L\u001b[0m\u001b[1;33m)\u001b[0m\u001b[1;33m*\u001b[0m\u001b[1;33m(\u001b[0m\u001b[1;33m-\u001b[0m\u001b[1;36m2\u001b[0m\u001b[1;33m*\u001b[0m\u001b[1;36m1j\u001b[0m\u001b[1;33m*\u001b[0m\u001b[0mrho\u001b[0m\u001b[1;33m)\u001b[0m\u001b[1;33m**\u001b[0m\u001b[1;33m(\u001b[0m\u001b[0mL\u001b[0m\u001b[1;33m+\u001b[0m\u001b[1;36m1\u001b[0m\u001b[1;33m+\u001b[0m\u001b[1;36m1j\u001b[0m\u001b[1;33m*\u001b[0m\u001b[0meta\u001b[0m\u001b[1;33m)\u001b[0m\u001b[1;33m*\u001b[0m\u001b[0mscipy\u001b[0m\u001b[1;33m.\u001b[0m\u001b[0mspecial\u001b[0m\u001b[1;33m.\u001b[0m\u001b[0mhyperu\u001b[0m\u001b[1;33m(\u001b[0m\u001b[0mL\u001b[0m\u001b[1;33m+\u001b[0m\u001b[1;36m1\u001b[0m\u001b[1;33m+\u001b[0m\u001b[1;36m1j\u001b[0m\u001b[1;33m*\u001b[0m\u001b[0meta\u001b[0m\u001b[1;33m,\u001b[0m\u001b[1;36m2\u001b[0m\u001b[1;33m*\u001b[0m\u001b[0mL\u001b[0m\u001b[1;33m+\u001b[0m\u001b[1;36m2\u001b[0m\u001b[1;33m,\u001b[0m \u001b[1;33m-\u001b[0m\u001b[1;36m2\u001b[0m\u001b[1;33m*\u001b[0m\u001b[1;36m1j\u001b[0m\u001b[1;33m*\u001b[0m\u001b[0mrho\u001b[0m\u001b[1;33m)\u001b[0m\u001b[1;33m\u001b[0m\u001b[1;33m\u001b[0m\u001b[0m\n\u001b[0m\u001b[0;32m    142\u001b[0m         \u001b[0mHmins_L\u001b[0m \u001b[1;33m=\u001b[0m \u001b[0mnp\u001b[0m\u001b[1;33m.\u001b[0m\u001b[0mconjugate\u001b[0m\u001b[1;33m(\u001b[0m\u001b[0mHplus_L\u001b[0m\u001b[1;33m)\u001b[0m\u001b[1;33m\u001b[0m\u001b[1;33m\u001b[0m\u001b[0m\n\u001b[0;32m    143\u001b[0m         \u001b[0mG_L\u001b[0m     \u001b[1;33m=\u001b[0m \u001b[0mnp\u001b[0m\u001b[1;33m.\u001b[0m\u001b[0mreal\u001b[0m\u001b[1;33m(\u001b[0m\u001b[0mHplus_L\u001b[0m\u001b[1;33m)\u001b[0m\u001b[1;33m\u001b[0m\u001b[1;33m\u001b[0m\u001b[0m\n",
      "\u001b[1;31mTypeError\u001b[0m: ufunc 'hyperu' not supported for the input types, and the inputs could not be safely coerced to any supported types according to the casting rule ''safe''"
     ]
    }
   ],
   "source": [
    "%timeit mpmath.coulombf(2,1.0,1.5), mpmath.coulombg(2,1.0,1.5)\n",
    "%timeit Coulomb_functions(2,1.0,1.5)"
   ]
  },
  {
   "cell_type": "markdown",
   "metadata": {},
   "source": [
    "## Phenomenological R-matrix in single pole approximation"
   ]
  },
  {
   "cell_type": "code",
   "execution_count": 25,
   "metadata": {},
   "outputs": [],
   "source": [
    "def phen_R_single_pole(l=0,eR=0.42,gamR=0.032,\n",
    "              ap=1.0073,zp=1.0,at=12.0,zt=6.0, \n",
    "              ch_radius=7.0,energies=numpy.arange(0.1,1.2,0.01)):\n",
    "    \"\"\"\n",
    "    phenomenological R-matrix calculation\n",
    "    assume : there is only one resonance in one partial wave\n",
    "                      (eR,GamR)\n",
    "             if eR=None, return hard-sphere phase shift         \n",
    "             range of Ecm energy.             \n",
    "    return energies and phase shifts for l \n",
    "    \n",
    "    \"\"\" \n",
    "    mu=ap*at/(ap+at)*mN #MeV\n",
    "    if eR: #eR is given              \n",
    "       (Sl,Pl,Slp,Plp)=shift_penn_dfactors(l,eR,mu,zp*zt,\n",
    "                    ch_radius)\n",
    "       gam_obs_sq=gamR/(2.0*Pl)\n",
    "    # use Thomas approximations\n",
    "       gam1_sq=gam_obs_sq/(1.-gam_obs_sq*Slp)\n",
    "       E1=eR+gam1_sq*Sl\n",
    "    # R-matrix\n",
    "    ens=energies\n",
    "    phases=numpy.zeros(len(ens))\n",
    "    for i in range(len(ens)):\n",
    "        en=ens[i]        \n",
    "        Rl=gam1_sq/(E1-en)\n",
    "        k=numpy.sqrt(2.0*mu*en)\n",
    "        eta=zp*zt*alpha_em*mu/k\n",
    "        phil=hard_sphere_phase(l,k,ch_radius,eta)\n",
    "        (Sl,Pl,Slp,Plp)=shift_penn_dfactors(l,en,mu,zp*zt,\n",
    "                    ch_radius)        \n",
    "        phases[i]=phil+numpy.arctan2(Pl*Rl,(1.0-Sl*Rl))   \n",
    "        #while phases[i] < -0.01 :\n",
    "        #    phases[i]=phases[i]+numpy.pi             \n",
    "    return ens,phases\n"
   ]
  },
  {
   "cell_type": "markdown",
   "metadata": {},
   "source": [
    "# An example of R-matrix result of 12C+p case\n",
    "\n",
    "Assume we already know resonance $E_R=0.42$ and $\\Gamma_R=0.032$ for channel 1+ (L=0) of 12C+p elastic scattering.\n",
    "\n",
    "Then, phen_R_single_pole gives phase shifts (in radian) \n"
   ]
  },
  {
   "cell_type": "code",
   "execution_count": 28,
   "metadata": {},
   "outputs": [
    {
     "data": {
      "text/plain": [
       "Text(0, 0.5, 'degree')"
      ]
     },
     "execution_count": 28,
     "metadata": {},
     "output_type": "execute_result"
    },
    {
     "data": {
      "image/png": "[encoded data removed]",
      "text/plain": [
       "<Figure size 432x288 with 1 Axes>"
      ]
     },
     "metadata": {
      "needs_background": "light"
     },
     "output_type": "display_data"
    }
   ],
   "source": [
    "ecms, phas0 = phen_R_single_pole(l=0,eR=0.42,gamR=0.032,\n",
    "              ap=1.0073,zp=1.0,at=12.0,zt=6.0, \n",
    "              ch_radius=7.0,energies=numpy.arange(0.25,2.0,0.02))\n",
    "plt.plot(ecms,phas0*180/np.pi)\n",
    "plt.xlabel('Ecm')\n",
    "plt.ylabel('degree')"
   ]
  },
  {
   "cell_type": "markdown",
   "metadata": {},
   "source": [
    "l=1 channel Er=1.558  Gamma=0.055"
   ]
  },
  {
   "cell_type": "code",
   "execution_count": 29,
   "metadata": {},
   "outputs": [
    {
     "data": {
      "text/plain": [
       "Text(0, 0.5, 'degree')"
      ]
     },
     "execution_count": 29,
     "metadata": {},
     "output_type": "execute_result"
    },
    {
     "data": {
      "image/png": "[encoded data removed]",
      "text/plain": [
       "<Figure size 432x288 with 1 Axes>"
      ]
     },
     "metadata": {
      "needs_background": "light"
     },
     "output_type": "display_data"
    }
   ],
   "source": [
    "ecms, phas1 = phen_R_single_pole(l=1,eR=1.558,gamR=0.055,\n",
    "              ap=1.0073,zp=1.0,at=12.0,zt=6.0, \n",
    "              ch_radius=7.0,energies=numpy.arange(0.25,2.0,0.02))\n",
    "plt.plot(ecms,phas1*180/np.pi)\n",
    "plt.xlabel('Ecm')\n",
    "plt.ylabel('degree')"
   ]
  },
  {
   "cell_type": "markdown",
   "metadata": {},
   "source": [
    "## cross section\n",
    "\n",
    "If we only consider the case with only 1+ channel resonance (l=0) of 12C+p ,\n",
    "\n",
    "the cross section becomes simply,\n",
    "\n",
    "$ \\frac{d\\sigma}{d\\Omega}(\\theta,E) = |f_c(\\theta)+e^{2i\\sigma_0}(\\frac{e^{2i \\delta_0}-1}{2ik})|^2$\n",
    "\n",
    "In fact, one can add more resonances and use hard-sphere phaseshift for other partial waves.\n",
    "\n",
    "However, using zero phase shift for non-resonance gives almost the same results. \n",
    "Also, only one partial wave l=0 seems to be good enough at low energy "
   ]
  },
  {
   "cell_type": "code",
   "execution_count": 31,
   "metadata": {},
   "outputs": [
    {
     "data": {
      "text/plain": [
       "<matplotlib.legend.Legend at 0x19118a35988>"
      ]
     },
     "execution_count": 31,
     "metadata": {},
     "output_type": "execute_result"
    },
    {
     "data": {
      "image/png": "[encoded data removed]",
      "text/plain": [
       "<Figure size 432x288 with 1 Axes>"
      ]
     },
     "metadata": {
      "needs_background": "light"
     },
     "output_type": "display_data"
    },
    {
     "data": {
      "image/png": "[encoded data removed]",
      "text/plain": [
       "<Figure size 432x288 with 1 Axes>"
      ]
     },
     "metadata": {
      "needs_background": "light"
     },
     "output_type": "display_data"
    }
   ],
   "source": [
    "ap=1.0073; zp=1.0 ; at=12.0 ; zt=6.0 ;\n",
    "mu = ap*at/(ap+at)*mN ;\n",
    "kcm = np.sqrt(2*mu*ecms)\n",
    "etas = Coulomb_eta(6.0,mu,kcm)\n",
    "\n",
    "#-----theta=89.1 case\n",
    "theta = 89.1 ; #degree\n",
    "f_cs = Coulomb_scattering_amplitude(theta*np.pi/180,etas,kcm)*hbarc # need to convert in fm units\n",
    "sigma0s=Coulomb_phaseshift(0,etas)\n",
    "sigma1s=Coulomb_phaseshift(1,etas)\n",
    "f_ls = np.exp(2*1j*sigma0s)*(np.exp(2*1j*phas0)-1.0)/(2*1j*kcm)*hbarc # need to convert in fm units \n",
    "diff_cross = np.abs(f_cs+f_ls)**2\n",
    "diff_cross_Coulomb = np.abs(f_cs)**2\n",
    "plt.figure()\n",
    "plt.plot(ecms,diff_cross*10,label='ER0')\n",
    "plt.plot(ecms,diff_cross_Coulomb*10,label='Coulomb')\n",
    "plt.xlim([0,2]);\n",
    "plt.ylim([0,2500]);\n",
    "plt.title(r'$\\theta=$89.1')\n",
    "plt.xlabel('Ecm')\n",
    "plt.ylabel('mb/sr')\n",
    "plt.legend()\n",
    "\n",
    "#-----theta=146.9 case\n",
    "theta = 146.9 ; #degree\n",
    "f_cs = Coulomb_scattering_amplitude(theta*np.pi/180,etas,kcm)*hbarc # need to convert in fm units\n",
    "sigma0s=Coulomb_phaseshift(0,etas)\n",
    "f_ls = np.exp(2*1j*sigma0s)*(np.exp(2*1j*phas0)-1.0)/(2*1j*kcm)*hbarc # need to convert in fm units \n",
    "diff_cross = np.abs(f_cs+f_ls)**2\n",
    "diff_cross_Coulomb = np.abs(f_cs)**2\n",
    "plt.figure()\n",
    "plt.plot(ecms,diff_cross*10,label='ER0')\n",
    "plt.plot(ecms,diff_cross_Coulomb*10,label='Coulomb')\n",
    "plt.xlim([0,2]);\n",
    "plt.ylim([0,1000]);\n",
    "plt.title(r'$\\theta=$146.9')\n",
    "plt.xlabel('Ecm');\n",
    "plt.ylabel('mb/sr');\n",
    "plt.legend()"
   ]
  },
  {
   "cell_type": "markdown",
   "metadata": {},
   "source": [
    "## test of calculable R-matrix method\n",
    "\n",
    "We may solve the 12C+p scattering using optical potential and \n",
    "solve the problem in calculable R-matrix method"
   ]
  },
  {
   "cell_type": "code",
   "execution_count": 13,
   "metadata": {},
   "outputs": [],
   "source": [
    "def test_pot1(r):\n",
    "    \"\"\"\n",
    "    eq. (4.14) potential for 12C+p\n",
    "    \"\"\"    \n",
    "    vn=-73.8*numpy.exp(-(r/2.70)**2)\n",
    "    vc=6.0*alpha_em/r*hbarc\n",
    "    return vn+vc\n",
    "    "
   ]
  },
  {
   "cell_type": "code",
   "execution_count": 21,
   "metadata": {},
   "outputs": [],
   "source": [
    "def test_cal_R(basis_N=15 , b1=1.4, x0=0.6,    ch_radius=8.0,    \n",
    "    l=0,\n",
    "    ap=1.0,zp=1.0,\n",
    "    at=12.0,zt=6.0,ens=numpy.arange(0.05,2.0,0.01) ):\n",
    "    \"\"\"\n",
    "      l=0 12C+p scattering calculation in R-matrix method\n",
    "      \n",
    "      using Gaussian basis\n",
    "      \n",
    "      However, the results in Table 1 and fig 4\n",
    "      is not reproduced correctly yet..\n",
    "    \"\"\"\n",
    "\n",
    "    bi=numpy.array([b1*x0**i for i in range(basis_N)  ] ) # Gaussian para\n",
    "    # note that the index starts from 1 in eq.(4.6) and eq.(4.5)\n",
    "    # need to check following code for index !!\n",
    "    mu=ap*at/(ap+at)*mN\n",
    "    \n",
    "    #---Gauassian potential\n",
    "    v0_g=-73.8 # MeV\n",
    "    r0_g=2.70 # fm \n",
    "#------special case    \n",
    "#    mu  = 1.0\n",
    "#    v0_g=-1.0 # MeV\n",
    "#    r0_g= 1.0 # fm \n",
    "#    zp=1.0\n",
    "#    zt=0.0 \n",
    "#    hbarc=1.0\n",
    "#    ens=numpy.array([0.1,1.0,10.0])\n",
    "    phases=numpy.zeros(len(ens))\n",
    "    for ei in range(len(ens)):\n",
    "      en=ens[ei]  \n",
    "      kmom=numpy.sqrt(2.0*mu*en) # MeV\n",
    "      eta=zp*zt*alpha_em*mu/kmom\n",
    "      #---construct Cij in eq.(3.14)  \n",
    "      \n",
    "      TLij=numpy.zeros((basis_N,basis_N))  # Tl+L(0) term\n",
    "      Vcij=numpy.zeros((basis_N,basis_N))  # Coulomb term\n",
    "      VNij=numpy.zeros((basis_N,basis_N))  # Nuclear pot term     \n",
    "      Eij =numpy.zeros((basis_N,basis_N))  # constant energy term     \n",
    "      Cij =numpy.zeros((basis_N,basis_N))  # C-mat  \n",
    "      nus = 1.0/bi**2  # \n",
    "      \n",
    "      for i in range(basis_N):\n",
    "          nui= nus[i]\n",
    "          for j in range(i,basis_N):\n",
    "             nuj= nus[j]  \n",
    "             TLij[i,j]= hbarc**2/(2*mu)*( 4.0*nui*nuj\n",
    "             #TLij[i,j]= ( 4.0*nui*nuj    \n",
    "                   *basis_Gaussian_I(2*l+4,nui+nuj,ch_radius=ch_radius)\n",
    "                   -2.0*(l+1)*(nui+nuj)\n",
    "                   *basis_Gaussian_I(2*l+2,nui+nuj,ch_radius=ch_radius)\n",
    "                   +(l+1)*(2*l+1)\n",
    "                   *basis_Gaussian_I(2*l,nui+nuj,ch_radius=ch_radius) )             \n",
    "             Vcij[i,j]=zp*zt*alpha_em*hbarc*basis_Gaussian_I(2*l+1,nui+nuj\n",
    "                                    ,ch_radius=ch_radius)\n",
    "             VNij[i,j]=v0_g*basis_Gaussian_I(2*l+2,nui+nuj+1.0/r0_g**2\n",
    "                                   ,ch_radius=ch_radius)\n",
    "             Eij[i,j] =en*basis_Gaussian_I(2*l+2,nui+nuj\n",
    "                                   ,ch_radius=ch_radius) \n",
    "             Cij[i,j]=TLij[i,j]+Vcij[i,j]+VNij[i,j]-Eij[i,j]  \n",
    "             Cij[j,i]=Cij[i,j] #symmetry \n",
    "      # -- done construting Cij, now compute inverse C\n",
    "      Cinv=scipy.linalg.inv(Cij)\n",
    "      fac1=hbarc**2/(2*mu*ch_radius) # eq(3.15)\n",
    "      sums=0.0\n",
    "      for i in range(basis_N):\n",
    "          for j in range(basis_N):\n",
    "              sums= ( sums+ \n",
    "                     Cinv[i,j]*basis_Gaussian(ch_radius,l,i+1,b1,x0)\n",
    "                              *basis_Gaussian(ch_radius,l,j+1,b1,x0) )\n",
    "      Rl=fac1*sums # R-matrix eq.(3.15)\n",
    "      phil=hard_sphere_phase(l,kmom,ch_radius,eta)\n",
    "      (Sl,Pl,Slp,Plp)=shift_penn_dfactors(l,en,mu,zp*zt,\n",
    "                    ch_radius)        \n",
    "      phase = phil+numpy.arctan2(Pl*Rl,(1.0-Sl*Rl))   \n",
    "      while phase < -0.01 :\n",
    "            phase = phase +numpy.pi\n",
    "\n",
    "      phases[ei]=phase\n",
    "        \n",
    "    return ens,phases*180./np.pi"
   ]
  },
  {
   "cell_type": "code",
   "execution_count": 23,
   "metadata": {},
   "outputs": [
    {
     "data": {
      "text/plain": [
       "[<matplotlib.lines.Line2D at 0x191163de348>]"
      ]
     },
     "execution_count": 23,
     "metadata": {},
     "output_type": "execute_result"
    },
    {
     "data": {
      "image/png": "[encoded data removed]",
      "text/plain": [
       "<Figure size 432x288 with 1 Axes>"
      ]
     },
     "metadata": {
      "needs_background": "light"
     },
     "output_type": "display_data"
    }
   ],
   "source": [
    "ens,phs = test_cal_R()\n",
    "plt.plot(ens,phs)"
   ]
  },
  {
   "cell_type": "code",
   "execution_count": null,
   "metadata": {},
   "outputs": [],
   "source": []
  }
 ],
 "metadata": {
  "kernelspec": {
   "display_name": "Python 3",
   "language": "python",
   "name": "python3"
  },
  "language_info": {
   "codemirror_mode": {
    "name": "ipython",
    "version": 3
   },
   "file_extension": ".py",
   "mimetype": "text/x-python",
   "name": "python",
   "nbconvert_exporter": "python",
   "pygments_lexer": "ipython3",
   "version": "3.7.4"
  }
 },
 "nbformat": 4,
 "nbformat_minor": 4
}
